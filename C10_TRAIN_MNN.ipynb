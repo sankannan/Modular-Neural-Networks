{
 "cells": [
  {
   "cell_type": "markdown",
   "metadata": {},
   "source": [
    "# Modular Neural Network for CIFAR 10"
   ]
  },
  {
   "cell_type": "markdown",
   "metadata": {
    "id": "nStJbIujhgsQ"
   },
   "source": [
    "\n",
    "In the below lines of code, an attempt to implement MNN for CIFAR 10 dataset has been made. \n",
    "\n",
    "* Contents of dataset :  \n",
    "> 60000 32x32 colour images in 10 classes, with 6000 images per class\n",
    "> There are 50000 training images and 10000 test images\n",
    "\n",
    "* The model that has been implemented based on the [research paper](https://drive.google.com/file/d/1eLd8RO6nVFDBdYpXCGVngzabiVaIphKM/view?usp=sharing) :\n",
    "\n",
    "![image.png](data:image/png;base64,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)\n",
    "\n"
   ]
  },
  {
   "cell_type": "markdown",
   "metadata": {},
   "source": [
    "# 1. Loading the dataset and obtaining training and test sets"
   ]
  },
  {
   "cell_type": "code",
   "execution_count": 2,
   "metadata": {
    "id": "qLyb-fIWUO-0"
   },
   "outputs": [],
   "source": [
    "# Importing libraries initially required\n",
    "import matplotlib.pyplot as plt\n",
    "import numpy as np\n",
    "import tensorflow\n",
    "from tensorflow.keras.datasets import cifar10\n",
    "\n",
    "# loading cifar 10 dataset for training and testing.\n",
    "#x--> Images, y--> labels\n",
    "(x_train, y_train), (x_test, y_test) = cifar10.load_data()\n"
   ]
  },
  {
   "cell_type": "code",
   "execution_count": 2,
   "metadata": {
    "colab": {
     "base_uri": "https://localhost:8080/"
    },
    "id": "3BiIAMowWYiO",
    "outputId": "76ff95ed-2fd5-445c-97ef-239cd55f5cd6"
   },
   "outputs": [
    {
     "name": "stdout",
     "output_type": "stream",
     "text": [
      "(50000, 32, 32, 3)\n"
     ]
    }
   ],
   "source": [
    "print(x_train.shape)"
   ]
  },
  {
   "cell_type": "code",
   "execution_count": 3,
   "metadata": {
    "id": "FpLZf3j4XmhV"
   },
   "outputs": [],
   "source": [
    "# setting class names\n",
    "class_names=['airplane','automobile','bird','cat','deer','dog','frog','horse','ship','truck']\n",
    "#----------0:g2,-----1:g3,-----2:g1,5---3:g1,4-----4:g1,5-----5:g1,4----6:g0---7:g1-----8:g2------9:g3\n",
    "\n",
    "#normalizing the data\n",
    "x_train=x_train/255.0\n",
    "x_train.shape\n",
    "x_test=x_test/255.0\n",
    "x_test.shape\n",
    "\n",
    "#reshaping 2D shape of labels to 1D\n",
    "y_test = y_test.reshape(-1,)\n",
    "y_train = y_train.reshape(-1,)\n"
   ]
  },
  {
   "cell_type": "markdown",
   "metadata": {},
   "source": [
    "# 2. Defining MNN tree structure as modules of different sizes"
   ]
  },
  {
   "cell_type": "markdown",
   "metadata": {},
   "source": [
    "##  Defining root module"
   ]
  },
  {
   "cell_type": "code",
   "execution_count": 4,
   "metadata": {
    "id": "qfiLAFnoZCq0"
   },
   "outputs": [],
   "source": [
    "import tensorflow as tf\n",
    "from tensorflow.keras import models,layers\n",
    "import matplotlib.pyplot as plt\n",
    "import numpy as np\n",
    "\n",
    "#defining root module\n",
    "def root_module():\n",
    "    \n",
    "    conv= models.Sequential([\n",
    "    layers.Conv2D(32,(3,3), activation = 'relu', kernel_initializer = 'random_normal', padding = 'same', input_shape = (32,32,3)),\n",
    "    layers.Conv2D(32,(3,3), activation = 'relu', kernel_initializer = 'random_normal', padding = 'same'),\n",
    "    tf.keras.layers.MaxPooling2D((2,2)),\n",
    "              ])   \n",
    "    out= models.Sequential([\n",
    "        conv,\n",
    "        layers.Flatten(),\n",
    "        layers.Dense(128, activation = 'relu', kernel_initializer = 'random_normal'),\n",
    "        layers.Dense(10, activation = 'softmax')\n",
    "              ])  \n",
    "    out.compile(optimizer=opt, loss='sparse_categorical_crossentropy', metrics=['accuracy'])\n",
    "    out.fit(x_train,y_train,8,epochs=30)\n",
    "\n",
    "    return conv, out\n",
    "    \n",
    "              \n",
    "# vgg : 1 block - 6 layers\n"
   ]
  },
  {
   "cell_type": "markdown",
   "metadata": {},
   "source": [
    "##  Defining supergroup modules\n",
    "* Root (level 0)- VGG block of size 1\n",
    "* Supergroups at level 1 - VGG block of size 2\n",
    "* Supergroups at level 2 - VGG block of size 3\n"
   ]
  },
  {
   "cell_type": "code",
   "execution_count": 5,
   "metadata": {
    "id": "wCUQqw6Tdlp6"
   },
   "outputs": [],
   "source": [
    "def sg0_mod(root_conv):\n",
    "    \n",
    "    conv= models.Sequential([\n",
    "    root_conv,\n",
    "    layers.Conv2D(64,(3,3), activation = 'relu', kernel_initializer = 'random_normal', padding = 'same'),\n",
    "    layers.Conv2D(64,(3,3), activation = 'relu', kernel_initializer = 'random_normal', padding = 'same'),\n",
    "    tf.keras.layers.MaxPooling2D((2,2)),\n",
    "              ])   \n",
    "    out= models.Sequential([\n",
    "        conv,\n",
    "        layers.Flatten(),\n",
    "        layers.Dense(128, activation = 'relu', kernel_initializer = 'random_normal'),\n",
    "        layers.Dense(10, activation = 'softmax')\n",
    "              ])  \n",
    "\n",
    "    return  out\n",
    "\n",
    "\n",
    "    \n",
    "\n",
    "#vgg : 2 block - 9 layers\n",
    "\n",
    "def sg1_mod(root_conv):\n",
    "    \n",
    "    conv= models.Sequential([\n",
    "    root_conv,\n",
    "    layers.Conv2D(64,(3,3), activation = 'relu', kernel_initializer = 'random_normal', padding = 'same'),\n",
    "    layers.Conv2D(64,(3,3), activation = 'relu', kernel_initializer = 'random_normal', padding = 'same'),\n",
    "    tf.keras.layers.MaxPooling2D((2,2)),\n",
    "              ])   \n",
    "    out= models.Sequential([\n",
    "        conv,\n",
    "        layers.Flatten(),\n",
    "        layers.Dense(128, activation = 'relu', kernel_initializer = 'random_normal'),\n",
    "        layers.Dense(10, activation = 'softmax')\n",
    "              ])  \n",
    "\n",
    "    return conv, out\n",
    "\n",
    "\n",
    "\n",
    "def sg2_mod(root_conv):\n",
    "    conv= models.Sequential([\n",
    "        root_conv,\n",
    "        layers.Conv2D(64,(3,3), activation = 'relu', kernel_initializer = 'random_normal', padding = 'same'),\n",
    "        layers.Conv2D(64,(3,3), activation = 'relu', kernel_initializer = 'random_normal', padding = 'same'),\n",
    "        tf.keras.layers.MaxPooling2D((2,2)),\n",
    "              ])  \n",
    "    out= models.Sequential([\n",
    "        conv,\n",
    "        layers.Flatten(),\n",
    "        layers.Dense(128, activation = 'relu', kernel_initializer = 'random_normal'),\n",
    "        layers.Dense(10, activation = 'softmax')\n",
    "                  ])  \n",
    "    return out\n",
    "\n",
    "\n",
    "def sg3_mod(root_conv):\n",
    "    conv= models.Sequential([\n",
    "        root_conv,\n",
    "        layers.Conv2D(64,(3,3), activation = 'relu', kernel_initializer = 'random_normal', padding = 'same'),\n",
    "        layers.Conv2D(64,(3,3), activation = 'relu', kernel_initializer = 'random_normal', padding = 'same'),\n",
    "        tf.keras.layers.MaxPooling2D((2,2)),\n",
    "              ])  \n",
    "    out= models.Sequential([\n",
    "        conv,\n",
    "        layers.Flatten(),\n",
    "        layers.Dense(128, activation = 'relu', kernel_initializer = 'random_normal'),\n",
    "        layers.Dense(10, activation = 'softmax')\n",
    "                  ])  \n",
    "    return out\n",
    "              \n",
    "#9\n",
    "\n",
    "def sg4_mod(sg_conv):\n",
    "    conv= models.Sequential([\n",
    "        sg_conv,\n",
    "        layers.Conv2D(128, (3, 3), activation='relu', kernel_initializer='random_normal', padding='same'),\n",
    "        layers.Conv2D(128, (3, 3), activation='relu', kernel_initializer='random_normal', padding='same'),\n",
    "        tf.keras.layers.MaxPooling2D((2,2)),\n",
    "              ])  \n",
    "    out= models.Sequential([\n",
    "        conv,\n",
    "        layers.Flatten(),\n",
    "        layers.Dense(128, activation = 'relu', kernel_initializer = 'random_normal'),\n",
    "        layers.Dense(10, activation = 'softmax')\n",
    "                  ])  \n",
    "    return out\n",
    "\n",
    "def sg5_mod(sg_conv):\n",
    "    conv= models.Sequential([\n",
    "        sg_conv,\n",
    "        layers.Conv2D(128, (3, 3), activation='relu', kernel_initializer='random_normal', padding='same'),\n",
    "        layers.Conv2D(128, (3, 3), activation='relu', kernel_initializer='random_normal', padding='same'),\n",
    "        tf.keras.layers.MaxPooling2D((2,2)),\n",
    "              ])  \n",
    "    out= models.Sequential([\n",
    "        conv,\n",
    "        layers.Flatten(),\n",
    "        layers.Dense(128, activation = 'relu', kernel_initializer = 'random_normal'),\n",
    "        layers.Dense(10, activation = 'softmax')\n",
    "                  ])  \n",
    "    return out"
   ]
  },
  {
   "cell_type": "markdown",
   "metadata": {},
   "source": [
    "# 3. Training the Root node"
   ]
  },
  {
   "cell_type": "code",
   "execution_count": 6,
   "metadata": {},
   "outputs": [
    {
     "name": "stderr",
     "output_type": "stream",
     "text": [
      "2021-10-20 13:43:03.980082: I tensorflow/stream_executor/cuda/cuda_gpu_executor.cc:937] successful NUMA node read from SysFS had negative value (-1), but there must be at least one NUMA node, so returning NUMA node zero\n",
      "2021-10-20 13:43:03.995109: I tensorflow/stream_executor/cuda/cuda_gpu_executor.cc:937] successful NUMA node read from SysFS had negative value (-1), but there must be at least one NUMA node, so returning NUMA node zero\n",
      "2021-10-20 13:43:03.995622: I tensorflow/stream_executor/cuda/cuda_gpu_executor.cc:937] successful NUMA node read from SysFS had negative value (-1), but there must be at least one NUMA node, so returning NUMA node zero\n",
      "2021-10-20 13:43:03.996151: I tensorflow/core/platform/cpu_feature_guard.cc:142] This TensorFlow binary is optimized with oneAPI Deep Neural Network Library (oneDNN) to use the following CPU instructions in performance-critical operations:  AVX2 FMA\n",
      "To enable them in other operations, rebuild TensorFlow with the appropriate compiler flags.\n",
      "2021-10-20 13:43:03.996747: I tensorflow/stream_executor/cuda/cuda_gpu_executor.cc:937] successful NUMA node read from SysFS had negative value (-1), but there must be at least one NUMA node, so returning NUMA node zero\n",
      "2021-10-20 13:43:03.997071: I tensorflow/stream_executor/cuda/cuda_gpu_executor.cc:937] successful NUMA node read from SysFS had negative value (-1), but there must be at least one NUMA node, so returning NUMA node zero\n",
      "2021-10-20 13:43:03.997360: I tensorflow/stream_executor/cuda/cuda_gpu_executor.cc:937] successful NUMA node read from SysFS had negative value (-1), but there must be at least one NUMA node, so returning NUMA node zero\n",
      "2021-10-20 13:43:04.418906: I tensorflow/stream_executor/cuda/cuda_gpu_executor.cc:937] successful NUMA node read from SysFS had negative value (-1), but there must be at least one NUMA node, so returning NUMA node zero\n",
      "2021-10-20 13:43:04.419232: I tensorflow/stream_executor/cuda/cuda_gpu_executor.cc:937] successful NUMA node read from SysFS had negative value (-1), but there must be at least one NUMA node, so returning NUMA node zero\n",
      "2021-10-20 13:43:04.419482: I tensorflow/stream_executor/cuda/cuda_gpu_executor.cc:937] successful NUMA node read from SysFS had negative value (-1), but there must be at least one NUMA node, so returning NUMA node zero\n",
      "2021-10-20 13:43:04.419711: I tensorflow/core/common_runtime/gpu/gpu_device.cc:1510] Created device /job:localhost/replica:0/task:0/device:GPU:0 with 2309 MB memory:  -> device: 0, name: NVIDIA GeForce GTX 1650 Ti, pci bus id: 0000:01:00.0, compute capability: 7.5\n",
      "2021-10-20 13:43:05.423591: W tensorflow/core/framework/cpu_allocator_impl.cc:80] Allocation of 614400000 exceeds 10% of free system memory.\n",
      "2021-10-20 13:43:05.861803: W tensorflow/core/framework/cpu_allocator_impl.cc:80] Allocation of 614400000 exceeds 10% of free system memory.\n",
      "2021-10-20 13:43:06.154966: I tensorflow/compiler/mlir/mlir_graph_optimization_pass.cc:185] None of the MLIR Optimization Passes are enabled (registered 2)\n"
     ]
    },
    {
     "name": "stdout",
     "output_type": "stream",
     "text": [
      "Epoch 1/30\n"
     ]
    },
    {
     "name": "stderr",
     "output_type": "stream",
     "text": [
      "2021-10-20 13:43:06.911193: I tensorflow/stream_executor/cuda/cuda_dnn.cc:369] Loaded cuDNN version 8202\n"
     ]
    },
    {
     "name": "stdout",
     "output_type": "stream",
     "text": [
      "6250/6250 [==============================] - 16s 2ms/step - loss: 1.2601 - accuracy: 0.5529\n",
      "Epoch 2/30\n",
      "6250/6250 [==============================] - 12s 2ms/step - loss: 0.8903 - accuracy: 0.6869\n",
      "Epoch 3/30\n",
      "6250/6250 [==============================] - 16s 3ms/step - loss: 0.6975 - accuracy: 0.7536\n",
      "Epoch 4/30\n",
      "6250/6250 [==============================] - 13s 2ms/step - loss: 0.5219 - accuracy: 0.8170\n",
      "Epoch 5/30\n",
      "6250/6250 [==============================] - 14s 2ms/step - loss: 0.3770 - accuracy: 0.8673\n",
      "Epoch 6/30\n",
      "6250/6250 [==============================] - 13s 2ms/step - loss: 0.2691 - accuracy: 0.9053\n",
      "Epoch 7/30\n",
      "6250/6250 [==============================] - 13s 2ms/step - loss: 0.2055 - accuracy: 0.9281\n",
      "Epoch 8/30\n",
      "6250/6250 [==============================] - 16s 2ms/step - loss: 0.1621 - accuracy: 0.9436\n",
      "Epoch 9/30\n",
      "6250/6250 [==============================] - 13s 2ms/step - loss: 0.1408 - accuracy: 0.9521\n",
      "Epoch 10/30\n",
      "6250/6250 [==============================] - 13s 2ms/step - loss: 0.1274 - accuracy: 0.9566\n",
      "Epoch 11/30\n",
      "6250/6250 [==============================] - 14s 2ms/step - loss: 0.1164 - accuracy: 0.9617\n",
      "Epoch 12/30\n",
      "6250/6250 [==============================] - 14s 2ms/step - loss: 0.1084 - accuracy: 0.9653\n",
      "Epoch 13/30\n",
      "6250/6250 [==============================] - 14s 2ms/step - loss: 0.1011 - accuracy: 0.9679\n",
      "Epoch 14/30\n",
      "6250/6250 [==============================] - 13s 2ms/step - loss: 0.0965 - accuracy: 0.9709\n",
      "Epoch 15/30\n",
      "6250/6250 [==============================] - 16s 3ms/step - loss: 0.0911 - accuracy: 0.9722\n",
      "Epoch 16/30\n",
      "6250/6250 [==============================] - 13s 2ms/step - loss: 0.0869 - accuracy: 0.9731\n",
      "Epoch 17/30\n",
      "6250/6250 [==============================] - 14s 2ms/step - loss: 0.0882 - accuracy: 0.9729\n",
      "Epoch 18/30\n",
      "6250/6250 [==============================] - 14s 2ms/step - loss: 0.0840 - accuracy: 0.9753\n",
      "Epoch 19/30\n",
      "6250/6250 [==============================] - 15s 2ms/step - loss: 0.0806 - accuracy: 0.9768\n",
      "Epoch 20/30\n",
      "6250/6250 [==============================] - 14s 2ms/step - loss: 0.0786 - accuracy: 0.9772\n",
      "Epoch 21/30\n",
      "6250/6250 [==============================] - 13s 2ms/step - loss: 0.0738 - accuracy: 0.9790\n",
      "Epoch 22/30\n",
      "6250/6250 [==============================] - 16s 3ms/step - loss: 0.0807 - accuracy: 0.9768\n",
      "Epoch 23/30\n",
      "6250/6250 [==============================] - 13s 2ms/step - loss: 0.0763 - accuracy: 0.9792\n",
      "Epoch 24/30\n",
      "6250/6250 [==============================] - 14s 2ms/step - loss: 0.0743 - accuracy: 0.9795\n",
      "Epoch 25/30\n",
      "6250/6250 [==============================] - 13s 2ms/step - loss: 0.0717 - accuracy: 0.9808\n",
      "Epoch 26/30\n",
      "6250/6250 [==============================] - 16s 3ms/step - loss: 0.0715 - accuracy: 0.9812\n",
      "Epoch 27/30\n",
      "6250/6250 [==============================] - 14s 2ms/step - loss: 0.0732 - accuracy: 0.9806\n",
      "Epoch 28/30\n",
      "6250/6250 [==============================] - 13s 2ms/step - loss: 0.0669 - accuracy: 0.9822\n",
      "Epoch 29/30\n",
      "6250/6250 [==============================] - 16s 3ms/step - loss: 0.0754 - accuracy: 0.9810\n",
      "Epoch 30/30\n",
      "6250/6250 [==============================] - 14s 2ms/step - loss: 0.0693 - accuracy: 0.9823\n"
     ]
    }
   ],
   "source": [
    "opt = tensorflow.keras.optimizers.Adam(learning_rate=0.001)\n",
    "root_conv,root=root_module()\n"
   ]
  },
  {
   "cell_type": "code",
   "execution_count": 7,
   "metadata": {},
   "outputs": [],
   "source": [
    "\n",
    "root.save('root.h5')"
   ]
  },
  {
   "cell_type": "code",
   "execution_count": 8,
   "metadata": {},
   "outputs": [
    {
     "name": "stderr",
     "output_type": "stream",
     "text": [
      "2021-10-20 13:50:44.863393: W tensorflow/core/framework/cpu_allocator_impl.cc:80] Allocation of 122880000 exceeds 10% of free system memory.\n",
      "2021-10-20 13:50:45.005022: W tensorflow/core/framework/cpu_allocator_impl.cc:80] Allocation of 122880000 exceeds 10% of free system memory.\n"
     ]
    },
    {
     "name": "stdout",
     "output_type": "stream",
     "text": [
      "1250/1250 [==============================] - 2s 1ms/step - loss: 5.4917 - accuracy: 0.6385\n"
     ]
    }
   ],
   "source": [
    "import keras\n",
    "root_mod = tf.keras.models.load_model('root.h5')\n",
    "\n",
    "loss,va1= root_mod.evaluate(x_test,y_test,8)\n"
   ]
  },
  {
   "cell_type": "code",
   "execution_count": 9,
   "metadata": {},
   "outputs": [],
   "source": [
    "import gc"
   ]
  },
  {
   "cell_type": "code",
   "execution_count": 10,
   "metadata": {
    "colab": {
     "base_uri": "https://localhost:8080/",
     "height": 754
    },
    "id": "DIT-KpZyoud4",
    "outputId": "064018ca-2778-4333-8144-a69fef9a3a22"
   },
   "outputs": [
    {
     "data": {
      "image/png": "[encoded data removed]",
      "text/plain": [
       "<IPython.core.display.Image object>"
      ]
     },
     "execution_count": 10,
     "metadata": {},
     "output_type": "execute_result"
    }
   ],
   "source": [
    "from keras.utils.vis_utils import plot_model\n",
    "plot_model(root, to_file='root.png', show_shapes=True, show_layer_names=True)"
   ]
  },
  {
   "cell_type": "code",
   "execution_count": 11,
   "metadata": {},
   "outputs": [
    {
     "data": {
      "text/plain": [
       "2992"
      ]
     },
     "execution_count": 11,
     "metadata": {},
     "output_type": "execute_result"
    }
   ],
   "source": [
    "gc.collect()"
   ]
  },
  {
   "cell_type": "markdown",
   "metadata": {
    "id": "5QlZmYY8YW9x"
   },
   "source": [
    "# 4. Defining constraints for training the supergroups\n",
    "\n",
    "## Defining Accuracy density as a function\n",
    "Change in accuracy density is given by the formula \n",
    "![image.png](data:image/png;base64,iVBORw0KGgoAAAANSUhEUgAAAMsAAAAtCAIAAACPhAj7AAAN/0lEQVR4Ae1c+VcTyRb2f3i/zjlVUBBFUUEEwQ0QDKK4Ia6gqAQUURwV2dwGQWUTRERUxGVGBdEZd0U2YUafKMvMiIgIhM1BWSQMkBCyUO8w5enXdCcxJGGdcPpwbn99q/qr27erby03EzCeMHaOrXi0/v1y++fY6JhTcXFxsbExkVF//fUXYdpQXx8TFX0qLi7+5MmYqGgV9BPi42tqalQoDPbSKKE0htzLCOO/B2vlYdPv7Ow8fSoBAWhjNauiokIul5Nby+Xy4qIiI2gQGhxcXV2tjE9udg4CMCM9XZmCBvgooTRWPOw/GFdqYOXhLCIQCBCAi52cGDfNfPJkl58fA6SfdnV1beN5IwCPhUfQce3l0UBpAsYZY+F4p725h6EGS/MZJsYcqgPDGEul0mVLXJqbm1XcPSLsaH1dnYkxZ8smTxVqml0acUoTNOOtL6XQAmvd3BCAjQ0N1NVLFy9eSk2lTtnCq8LChPhTGOMlTovmz57DVtASGXFKeg/T8gkOKB4cGIQALMjPJ6hAIFi3eo1MKhugRDsRi8WeHh49PT0YY3+/nUbQQNgtpF3XgTjilPQepoOnSFVx4dx5BCDVaYWHhb1+9Zq6yhaiIyMznzwhOBkovPnzDVtNG2TEKek9TJvHxyybk5WNADwUegBjXMuvDQ4MYmrQzt+WlU2fYpqYcDopMTEpMdFvuy8C8JfbP9NU+sXq6urpU0zTb6RR+I9XrsZERik7/v57wIh7KChhjJs/fzafOi05KYlipUzQe5gyy2iC19TUIAA3rF2HMQ7Yu7e1tVVZLTKpzHX5iiuXLt+9c4ccqSkpCMDoyEhGEZlM9iwvTyAQUHhqSkpE2FFlR0dHB6WJMR4KSqT+gvz8lpYW+r0UynoPU2gWDUGZVMZByMbSqvDly6uXr6ioJTkp6WRMLF1BKpVyEPL28qKDNTU1Bfn5uTm5dHBQss4pkW41Nyc3OytLHSbf8LB35eVJiYl//PGHOnUp1Ll/755MpiDUFQmFle8ra2pqGurrGxsa+Hx+dVUVQTo7OxVWNSZARzt7BODunbsUtpo0gc/ncx0cSYBPb5Sjnb39fFs68r7ivcsi53k2s+ngYGXdUsIYvysv5zo42lhaqcPkGx7mw+MhADWep8lIT0cAvi0rY1Oprqra4797jrU1AhABaGFmvmrFynWrV9vOnYcAXOK06GaaLie42QSGCPH28jKCBiXFxcrqF4lEK5cte/zwEVuBt2WrsYEhY/JsjrX10R9+YCurj+icEsbYddnywH0B6nBQ5WGfP33iGCIEoLGB4aemT+pUR9dp/9JuMd1MYfRKqd2/dw8B6GBnJxaLKbCuts7TYyMC0NPDo6mpicLHhBATFR0SpDTAj4mKJq+Qx/oN9G8fn88PCQoyNZmMAHRyXEgNMN/8+QYB+PrVK23arltKGOOuri4OQgpfEjZPVR6WmHDa0c6eWCQpMZFdWDUSvD/QyXEhAjDy+HFlmmfPnEEAHj54iKEgl8ujIyMRgEsXL1Exn8QoNRpORUKhiu+jRCKR//MnlUrpanK5XCqVyuXyvr4+mVRGNTkmKtpqhgV9kUCDNuqWEsb4aWYmByE1gxmlHiaXy+fZzD6ffI7M09jPt+3r61O/eaUlJcuWuDx68BABuNVzs7KCZIiucMVXJpPZz7dFAJ47m6ys+LjHnbncgL17KyoqVAxLh98IB0JC1q9Zq+Z9lXrYs7w8DkItLS0fP340ggYIwFeFhWpWKpPJXJwXvyosfF/xHgGoIlAlHWT527cKa067fgMBaDrJhP4NVag5LsHe3l5jA0PuAofLqZcG9XoPtTXm2cxOu35Dzbso9TAfHm+7tw+pZeMGdwRgwN69alZ65dJlv+2+GGOxWGxsYIgA7OrqYpft6OhAAE4yMpZKpeyrZMxCxgEvnj9XqDDuQUF7u5afSJ2b6F15+Yxp00UikZo1K/YwEuNToejdO3dIX6LQURh3amlpsZphQa3+kl7q99JShhrG+L8vXiAAl7ssZV8iSGdnJ/GwjJs3lekMFm9ra3tVWKjOoWacMVgCY1S/q6uroqICYxwaHHz3zh31W6HYwxITTttYzaJC0Z6eHjPTqQhAdWYQ9vjvjomMohhs9dysrGDK+QsIwNDgYEqZIfT29n71MN1tzSNvC6lW9X/1owIG7XF5WsuvXb9mbWx0zIP79wfVQAUeRmL82OgYekUHQkIQgG4rXekgWy58+dJ6pmV3dzd1KSLsKAIwPCyMQihhj/9uBOD1a9cohCE0NjYSJ/i1oIBxSePTL1++FBcVqXOo02FrTOPfU1CBhz3LyzOCBvV1dXQr/F5aSh52dVUVHafLUqnUyXHhYienkzGxcbFfj03u/THcJnd3uiaRuQscEIAqFgwKX75EAHIMEX2t7cK583OtbdiDg9u3bs2xth7miK2zs9NH/+fjoyySxv/kgDAfvQ+PR9ZuGRe4Do6qJ7fOnU22sbQKDgw6FHqAOnbu2IEAtJ5pyahN2C00NjDkIMRePKE0T8XFIQDXurlRCMb4VkaG20pXPp9PBzHGWU+fui5focJfGfo6OW1tbf1O//fddyoG+8w+jMT4CkO588nnEICzLGZS84H0h9TU1GRqMpk9+0wGjAhAQXs7Xb+4qIisDtFBhuzM5SIAb9+6xcD1p2PIAkwPS0w4bT51msJ+pbm5mSwi5WRls1u4Y9t2ZfkOM83N2UsfVy9fQQCqWNsi6TcL7RdQA47m5ubc7Jz0G2lFr4voBNra2vJyc2+mpavziczOylpga6vOMczdIb1F40ke4GEkxmev4VAN5m3ZigDcxvOmECIU5OdP5kz8+PEjAyenq11XIQCv/fgj/WrgvgAEoLItLu1f2mfPsjadZEKPt6qrqo4cOsz2S7LXDwFIJuHod2HLpSUlgfsC1DkGm734qelT5PHjUSdOJMTHs+9LkKTExBPHjp1PPsdW+L20NOzIEb/tvrwtW3WYO6kNK51QGuBhz/LyEID0h8owxJPHj/tDb4ToixjCbqHdvPlxsQN2O9ELBgXsRwAeDAmlg0ucFiEAi4sG9EZEoaG+3pnLnTZ5Sv6zZ/QiJNhS+N0sLSlBAKampDD0h/m0paVlkpExApBuH4rDL7d/RgCmXb8hkUgokOQjBe4LOBASQrYZ1vJruQscDh84SNfRRtaAlVQq1ZhSd3d32vUbVLw0wMN8eLyli5eoaIxEIrEw6//kpZy/QNS6u7vJDp935eXKCpLuysLMnNrg+7asjMz100uJRKKS4uLvd/lzEHJft17hoDU8LAwByN7oQXajl73R8SZ3ZS1Shle+ryQjbva7IRAIyOQzeyI3If7UooVcep0Z6emM/Yn0q4OVNWClDaWE+HgyA/Chsj/F9f8eJmhvn4iMpkycZD3TUsVB3lHiiN/v8p+IjIhNLczMd+/cxWj8iWPHHOzsiAJZFXDmclcuW8ZB/ZuCCI+51jYOdnYWZuY2VrNWu646cugwI8yi1+nM5XIdHOkIkb29vKZPMaUiNrbC8CBnz5wh2WPsrSjXfvrJ08PDzHQqm4ml+QzGDry2traqDx/YmpohGrDShtKL589J5H3p4sUBHqYBe7FYTMaVMplMIpGwh6xisbi3t1cmlfVvSpHJent7hd1CUoogEolEJBKJhEIVEyoUsdbWVgRg2JEjFEKEvr4+i+lmvC0j/6sWa93cfi0oQADu2LadTrK0pKTszRsnx4Uui5zpOJFnz7I2MeYM3cBCA1ZaUpLJZL4+20iQ/f8+jN3y0Ybcu3sXAcgeyVZXVSEAL174+uEeKdptbW0e6zeIxWIOQrZz5lI0pFLpjevXMcamJpN9eDwKp4RzZ5MRgCbGnJioaJFQx/mSmrHSkpJIJHJxXkyGSmPJw8jKVUlxcWhwMD1YVrFXm3qKwyBk3LxJvgsui5zp83+3b93q7OwUtLcr7IAJsYz0dPJlmWNtrebeUTVbpDErjSnlZGVzHRypzQpjycM8PTYaGxhu3ODe/Pkz3b6B+wIc7OzoyIjI27196mr7l9rI2Pn5b/07jhobG0mn+7asTPVot6Ojg+RnIwAfPXhINUHLfEltWCmjpDpf8mlmZkN9PcV/LHmYsFvY/mXAwgBphv18W3VSQ6k2D4UgFotXLP26Demnq1cRgGTSi8r/fpqZiQB88vix6ruTQfHmjZsoNW3yJXXCik2JcPu35EtWV1WZTjJh5OdQj2fYhGd5eVEnTpDbkV0C/n47c7Nzavm1BLyUmooAZPxoAJ/PZ2wwrK+rQwB6bd5CSmmZL6kBq29S0nG+5LA9ocHe6OGDBxFHw4XdQj9fX8ZqwWCr0on+wZBQava4p6eHY9ifl0v/KQCyi4nRB3t7edE/KBjj3379DQGYm51DWGmZL6kBq29S0nG+pE6sPxSVlBQX+/ps8/byun/v3lDUP6g6JRKJ3bz59N7Imct1sLPr7e2l6tnk7s5BiDolwlo3t4ij4RQolUo91m+ICDtKIRhjjfMlNWOlDiWd5UvS26mXlVngyaPHa1a5GUGDwwcPUVO+QQH7SaRPfjlij/9ukk2zf+8+ejdGNkS5rXQ9Fh4RHhbm5+tLj/ExxhrnS2rM6puUdJkvqcymepxugf70Rln/lDJ90pi+wUkul5M5Z5IUycga6unpqa+r+1BZqfCXwzTOl9SGlWpKOsuXpBtRL4+UBcZzvuRI2VR/X8oC4zxfkmqnXhhBC4zbfMkRtKn+1qPTAjrOlxydjdSzGkEL6DJfcgSbob/1+LPAWFqXHH/W/ze06H+yscMkactKrAAAAABJRU5ErkJggg==)"
   ]
  },
  {
   "cell_type": "code",
   "execution_count": 12,
   "metadata": {
    "id": "ixVeAhZeir0Q"
   },
   "outputs": [],
   "source": [
    "#from root\n",
    "MS1=6\n",
    "\n",
    "#initializing for reference\n",
    "va2=0\n",
    "MS2=0\n",
    "threshold=0.1\n",
    "\n",
    "def delta_AD(va1,va2,MS1,MS2):\n",
    "  AD=((va2-va1)/(MS2-MS1))\n",
    "  return AD"
   ]
  },
  {
   "cell_type": "code",
   "execution_count": 13,
   "metadata": {
    "id": "sXc5RVNIkEok"
   },
   "outputs": [],
   "source": [
    "AD_temp=delta_AD(va1,va2,MS1,MS2)"
   ]
  },
  {
   "cell_type": "code",
   "execution_count": 16,
   "metadata": {
    "colab": {
     "base_uri": "https://localhost:8080/"
    },
    "id": "Eav_U4sBnOel",
    "outputId": "5353fb24-05d4-4cdd-ae9a-6c10d7efa57b"
   },
   "outputs": [
    {
     "name": "stdout",
     "output_type": "stream",
     "text": [
      "0.10641666253407796\n",
      "0.6384999752044678 0 6 0\n",
      "Accuracy of root node  63.84999752044678\n"
     ]
    }
   ],
   "source": [
    "print(AD_temp)\n",
    "print(va1,va2,MS1,MS2)\n",
    "\n",
    "print(\"Accuracy of root node \",va1*100)"
   ]
  },
  {
   "cell_type": "markdown",
   "metadata": {},
   "source": [
    "# 5. Training supergroups \n",
    "\n",
    "based on the condition that change in accuracy density is greater than threshold if it is lesser then the subgroup need not be trained"
   ]
  },
  {
   "cell_type": "markdown",
   "metadata": {},
   "source": [
    "## Training Supergroup 0"
   ]
  },
  {
   "cell_type": "code",
   "execution_count": 17,
   "metadata": {
    "colab": {
     "base_uri": "https://localhost:8080/",
     "height": 350
    },
    "id": "XOI6E3qAXOmH",
    "outputId": "68d5d488-79a5-481c-ad29-49fdeb0c1079"
   },
   "outputs": [
    {
     "name": "stdout",
     "output_type": "stream",
     "text": [
      "super group 0 : AD =  0.10641666253407796\n"
     ]
    },
    {
     "name": "stderr",
     "output_type": "stream",
     "text": [
      "2021-10-20 13:52:48.237372: W tensorflow/core/framework/cpu_allocator_impl.cc:80] Allocation of 614400000 exceeds 10% of free system memory.\n"
     ]
    },
    {
     "name": "stdout",
     "output_type": "stream",
     "text": [
      "Epoch 1/10\n",
      "3125/3125 [==============================] - 10s 3ms/step - loss: 1.0246 - accuracy: 0.6425\n",
      "Epoch 2/10\n",
      "3125/3125 [==============================] - 10s 3ms/step - loss: 0.7230 - accuracy: 0.7463\n",
      "Epoch 3/10\n",
      "3125/3125 [==============================] - 9s 3ms/step - loss: 0.5847 - accuracy: 0.7948\n",
      "Epoch 4/10\n",
      "3125/3125 [==============================] - 9s 3ms/step - loss: 0.4775 - accuracy: 0.8322\n",
      "Epoch 5/10\n",
      "3125/3125 [==============================] - 9s 3ms/step - loss: 0.3927 - accuracy: 0.8622\n",
      "Epoch 6/10\n",
      "3125/3125 [==============================] - 9s 3ms/step - loss: 0.3172 - accuracy: 0.8886\n",
      "Epoch 7/10\n",
      "3125/3125 [==============================] - 9s 3ms/step - loss: 0.2638 - accuracy: 0.9070\n",
      "Epoch 8/10\n",
      "3125/3125 [==============================] - 9s 3ms/step - loss: 0.2275 - accuracy: 0.9204\n",
      "Epoch 9/10\n",
      "3125/3125 [==============================] - 10s 3ms/step - loss: 0.1986 - accuracy: 0.9308\n",
      "Epoch 10/10\n",
      "3125/3125 [==============================] - 9s 3ms/step - loss: 0.1822 - accuracy: 0.9353\n",
      "313/313 [==============================] - 1s 2ms/step - loss: 1.3035 - accuracy: 0.7293\n",
      "super group 0 : AD =  -0.015133341153462728\n"
     ]
    },
    {
     "data": {
      "text/plain": [
       "1622"
      ]
     },
     "execution_count": 17,
     "metadata": {},
     "output_type": "execute_result"
    }
   ],
   "source": [
    "'''\n",
    "----------------0------------1---------2------3-----4-----5-------6------7------8-------9-----\n",
    "class_names=['airplane','automobile','bird','cat','deer','dog','frog','horse','ship','truck']\n",
    "#----------0:g2,-----1:g3,-----2:g1,5---3:g1,4-----4:g1,5-----5:g1,4----6:g0---7:g1-----8:g2------9:g3\n",
    "#frog--> \n",
    "#airplane,ship :              0,8 --- > g2\n",
    "#automobile,truck:            1,9 ---> g3\n",
    "#bird,cat,deer,dog,horse:  2,3,4,5,7\n",
    "#cat,dog --> sg4 (3,5)\n",
    "#bird,deer --> sg5 (2,4)\n",
    "###################################################################################################################################################\n",
    "'''\n",
    "\n",
    "y=len(y_test)\n",
    "\n",
    "AD0=AD_temp\n",
    "AD1=AD_temp\n",
    "AD2=AD_temp\n",
    "AD3=AD_temp\n",
    "AD4=AD_temp\n",
    "AD5=AD_temp\n",
    "\n",
    "va_g0=0\n",
    "va_g1=0\n",
    "va_g2=0\n",
    "va_g3=0\n",
    "\n",
    "batch_size=16\n",
    "lr=0.0001\n",
    "opt_02 = tensorflow.keras.optimizers.Adam(learning_rate=0.001)\n",
    "\n",
    "ep=10\n",
    "\n",
    "sg1_conv=0\n",
    "for i in range(y):\n",
    "    if y_test[i] in [6] :\n",
    "          if (AD0>threshold):\n",
    "            print('super group 0 : AD = ',AD0)\n",
    "            sg0=sg0_mod(root_conv)\n",
    "            sg0.compile(optimizer=opt_02, loss='sparse_categorical_crossentropy', metrics=['accuracy'])\n",
    "            sg0_details=sg0.fit(x_train, y_train, batch_size, epochs=10)\n",
    "            loss,va2=sg0.evaluate(x_test,y_test)\n",
    "            AD0=delta_AD(va1,va2,MS1,MS2)\n",
    "            va_g0=va2\n",
    "            print('super group 0 : AD = ',AD0)\n",
    "            if(AD0<threshold):\n",
    "                sg0.save('sg0.h5')\n",
    "            MS2=9\n",
    "gc.collect()\n"
   ]
  },
  {
   "cell_type": "markdown",
   "metadata": {},
   "source": [
    "## Training Supergroup 2"
   ]
  },
  {
   "cell_type": "code",
   "execution_count": 18,
   "metadata": {},
   "outputs": [
    {
     "name": "stdout",
     "output_type": "stream",
     "text": [
      "Super group 2: AD =  0.10641666253407796\n",
      "Epoch 1/10\n",
      "3125/3125 [==============================] - 9s 3ms/step - loss: 1.3531 - accuracy: 0.5085\n",
      "Epoch 2/10\n",
      "3125/3125 [==============================] - 10s 3ms/step - loss: 0.9971 - accuracy: 0.6428\n",
      "Epoch 3/10\n",
      "3125/3125 [==============================] - 9s 3ms/step - loss: 0.8660 - accuracy: 0.6916\n",
      "Epoch 4/10\n",
      "3125/3125 [==============================] - 9s 3ms/step - loss: 0.7678 - accuracy: 0.7276\n",
      "Epoch 5/10\n",
      "3125/3125 [==============================] - 9s 3ms/step - loss: 0.6866 - accuracy: 0.7541\n",
      "Epoch 6/10\n",
      "3125/3125 [==============================] - 9s 3ms/step - loss: 0.6120 - accuracy: 0.7849\n",
      "Epoch 7/10\n",
      "3125/3125 [==============================] - 10s 3ms/step - loss: 0.5395 - accuracy: 0.8078\n",
      "Epoch 8/10\n",
      "3125/3125 [==============================] - 9s 3ms/step - loss: 0.4605 - accuracy: 0.8367\n",
      "Epoch 9/10\n",
      "3125/3125 [==============================] - 10s 3ms/step - loss: 0.4013 - accuracy: 0.8576\n",
      "Epoch 10/10\n",
      "3125/3125 [==============================] - 9s 3ms/step - loss: 0.3455 - accuracy: 0.8756\n",
      "313/313 [==============================] - 1s 2ms/step - loss: 1.0673 - accuracy: 0.7123\n",
      "super group 2 : AD =  0.024600009123484295\n"
     ]
    },
    {
     "data": {
      "text/plain": [
       "1622"
      ]
     },
     "execution_count": 18,
     "metadata": {},
     "output_type": "execute_result"
    }
   ],
   "source": [
    "\n",
    "for i in range(y):\n",
    "    if y_test[i] in [0,8] :\n",
    "          if (AD2>threshold):\n",
    "            sg2=sg2_mod(root_conv)\n",
    "            print('Super group 2: AD = ',AD2)\n",
    "            sg2.compile(optimizer=opt_02, loss='sparse_categorical_crossentropy', metrics=['accuracy'])\n",
    "            sg2_details=sg2.fit(x_train, y_train, batch_size, epochs=10)\n",
    "            loss,va2=sg2.evaluate(x_test,y_test)\n",
    "            AD2=delta_AD(va1,va2,MS1,MS2)\n",
    "            va_g2=va2\n",
    "            print('super group 2 : AD = ',AD2)\n",
    "            if(AD2<threshold):\n",
    "                sg2.save('sg2.h5')\n",
    "            MS2=9\n",
    "gc.collect()\n",
    "\n"
   ]
  },
  {
   "cell_type": "markdown",
   "metadata": {},
   "source": [
    "## Training Supergroup 3"
   ]
  },
  {
   "cell_type": "code",
   "execution_count": 22,
   "metadata": {},
   "outputs": [
    {
     "name": "stdout",
     "output_type": "stream",
     "text": [
      "Super group 3 : AD =  0.10641666253407796\n",
      "Epoch 1/10\n",
      "3125/3125 [==============================] - 9s 3ms/step - loss: 1.2648 - accuracy: 0.5486\n",
      "Epoch 2/10\n",
      "3125/3125 [==============================] - 10s 3ms/step - loss: 0.8837 - accuracy: 0.6865\n",
      "Epoch 3/10\n",
      "3125/3125 [==============================] - 10s 3ms/step - loss: 0.7721 - accuracy: 0.7281\n",
      "Epoch 4/10\n",
      "3125/3125 [==============================] - 9s 3ms/step - loss: 0.6841 - accuracy: 0.7600\n",
      "Epoch 5/10\n",
      "3125/3125 [==============================] - 9s 3ms/step - loss: 0.6046 - accuracy: 0.7856\n",
      "Epoch 6/10\n",
      "3125/3125 [==============================] - 9s 3ms/step - loss: 0.5176 - accuracy: 0.8183\n",
      "Epoch 7/10\n",
      "3125/3125 [==============================] - 11s 3ms/step - loss: 0.4359 - accuracy: 0.8442\n",
      "Epoch 8/10\n",
      "3125/3125 [==============================] - 10s 3ms/step - loss: 0.3667 - accuracy: 0.8700\n",
      "Epoch 9/10\n",
      "3125/3125 [==============================] - 10s 3ms/step - loss: 0.3093 - accuracy: 0.8901\n",
      "Epoch 10/10\n",
      "3125/3125 [==============================] - 9s 3ms/step - loss: 0.2629 - accuracy: 0.9056\n",
      "313/313 [==============================] - 1s 2ms/step - loss: 1.1512 - accuracy: 0.7162\n",
      "super group 3 : AD =  0.02590000629425049\n"
     ]
    },
    {
     "data": {
      "text/plain": [
       "2705"
      ]
     },
     "execution_count": 22,
     "metadata": {},
     "output_type": "execute_result"
    }
   ],
   "source": [
    "AD3=AD_temp\n",
    "for i in range(y):\n",
    "    if y_test[i] in [1,9] :\n",
    "        if (AD3>threshold):\n",
    "            print('Super group 3 : AD = ',AD3)\n",
    "            sg3=sg3_mod(root_conv)\n",
    "            sg3.compile(optimizer=opt_02, loss='sparse_categorical_crossentropy', metrics=['accuracy'])\n",
    "            sg3_details=sg3.fit(x_train, y_train, batch_size, epochs=10)\n",
    "            loss,va2=sg3.evaluate(x_test,y_test)\n",
    "            AD3=delta_AD(va1,va2,MS1,MS2)\n",
    "            va_g3=va2\n",
    "            print('super group 3 : AD = ',AD3)\n",
    "            if(AD3<threshold):\n",
    "                sg3.save('sg3.h5')\n",
    "            MS2=9\n",
    "gc.collect()\n",
    "\n"
   ]
  },
  {
   "cell_type": "markdown",
   "metadata": {},
   "source": [
    "## Training Supergroup 1 and supergroup 4"
   ]
  },
  {
   "cell_type": "code",
   "execution_count": 27,
   "metadata": {},
   "outputs": [
    {
     "name": "stdout",
     "output_type": "stream",
     "text": [
      "Super group 1: AD =  0.10641666253407796\n",
      "Epoch 1/10\n",
      "3125/3125 [==============================] - 10s 3ms/step - loss: 1.0946 - accuracy: 0.6098\n",
      "Epoch 2/10\n",
      "3125/3125 [==============================] - 9s 3ms/step - loss: 0.8104 - accuracy: 0.7131\n",
      "Epoch 3/10\n",
      "3125/3125 [==============================] - 9s 3ms/step - loss: 0.7004 - accuracy: 0.7531\n",
      "Epoch 4/10\n",
      "3125/3125 [==============================] - 10s 3ms/step - loss: 0.6199 - accuracy: 0.7804\n",
      "Epoch 5/10\n",
      "3125/3125 [==============================] - 10s 3ms/step - loss: 0.5564 - accuracy: 0.8031\n",
      "Epoch 6/10\n",
      "3125/3125 [==============================] - 10s 3ms/step - loss: 0.4913 - accuracy: 0.8240\n",
      "Epoch 7/10\n",
      "3125/3125 [==============================] - 9s 3ms/step - loss: 0.4246 - accuracy: 0.8489\n",
      "Epoch 8/10\n",
      "3125/3125 [==============================] - 9s 3ms/step - loss: 0.3608 - accuracy: 0.8715\n",
      "Epoch 9/10\n",
      "3125/3125 [==============================] - 10s 3ms/step - loss: 0.3046 - accuracy: 0.8913\n",
      "Epoch 10/10\n",
      "3125/3125 [==============================] - 11s 4ms/step - loss: 0.2643 - accuracy: 0.9065\n",
      "313/313 [==============================] - 1s 2ms/step - loss: 1.1495 - accuracy: 0.7230\n",
      "super group 1 : AD =  0.028166671593983967\n",
      "Super group 4:: AD =  0.10641666253407796\n",
      "Epoch 1/10\n",
      "3125/3125 [==============================] - 14s 4ms/step - loss: 0.8224 - accuracy: 0.7135\n",
      "Epoch 2/10\n",
      "3125/3125 [==============================] - 13s 4ms/step - loss: 0.6295 - accuracy: 0.7808\n",
      "Epoch 3/10\n",
      "3125/3125 [==============================] - 13s 4ms/step - loss: 0.5610 - accuracy: 0.8051\n",
      "Epoch 4/10\n",
      "3125/3125 [==============================] - 13s 4ms/step - loss: 0.5044 - accuracy: 0.8236\n",
      "Epoch 5/10\n",
      "3125/3125 [==============================] - 13s 4ms/step - loss: 0.4640 - accuracy: 0.8368\n",
      "Epoch 6/10\n",
      "3125/3125 [==============================] - 13s 4ms/step - loss: 0.4300 - accuracy: 0.8498\n",
      "Epoch 7/10\n",
      "3125/3125 [==============================] - 14s 4ms/step - loss: 0.4094 - accuracy: 0.8561\n",
      "Epoch 8/10\n",
      "3125/3125 [==============================] - 15s 5ms/step - loss: 0.3854 - accuracy: 0.8643\n",
      "Epoch 9/10\n",
      "3125/3125 [==============================] - 14s 4ms/step - loss: 0.3697 - accuracy: 0.8697\n",
      "Epoch 10/10\n",
      "3125/3125 [==============================] - 13s 4ms/step - loss: 0.3529 - accuracy: 0.8767\n",
      "313/313 [==============================] - 1s 3ms/step - loss: 0.9401 - accuracy: 0.7408\n",
      "super group 4 : AD =  0.03410001595815023\n"
     ]
    },
    {
     "data": {
      "text/plain": [
       "0"
      ]
     },
     "execution_count": 27,
     "metadata": {},
     "output_type": "execute_result"
    }
   ],
   "source": [
    "AD1=AD_temp\n",
    "AD4=AD_temp\n",
    "\n",
    "for i in range(y):\n",
    "    if y_test[i] in [2,3,4,5,7] : #g5--> horse\n",
    "        if (AD1>threshold):\n",
    "            print('Super group 1: AD = ',AD1)\n",
    "            sg1_conv,sg1=sg1_mod(root_conv)\n",
    "            sg1.compile(optimizer=opt_02, loss='sparse_categorical_crossentropy', metrics=['accuracy'])\n",
    "            sg1_details=sg1.fit(x_train, y_train, batch_size, epochs=10)\n",
    "            loss,va2=sg1.evaluate(x_test,y_test)\n",
    "            AD1=delta_AD(va1,va2,MS1,MS2)\n",
    "            print('super group 1 : AD = ',AD1)\n",
    "            sg1.save('sg1.h5')\n",
    "            MS2=9\n",
    "            va_g1=va2\n",
    "            if (AD4>threshold) and (y_test[i] in  [3,5]): \n",
    "                print('Super group 4:: AD = ',AD4)\n",
    "                sg4=sg4_mod(sg1_conv)\n",
    "                sg4.compile(optimizer=opt_02, loss='sparse_categorical_crossentropy', metrics=['accuracy'])\n",
    "                sg4_details=sg4.fit(x_train, y_train, batch_size, epochs=)\n",
    "                loss,va2=sg4.evaluate(x_test,y_test)\n",
    "                AD4=delta_AD(va1,va2,MS1,MS2)\n",
    "                MS2=9\n",
    "                if(AD4<threshold):\n",
    "                    sg4.save('sg4.h5')\n",
    "                    gc.collect()\n",
    "                va_g4=va2\n",
    "                print('super group 4 : AD = ',AD4)\n",
    "\n",
    "gc.collect()"
   ]
  },
  {
   "cell_type": "markdown",
   "metadata": {},
   "source": [
    "## Training Supergroup 5"
   ]
  },
  {
   "cell_type": "code",
   "execution_count": 30,
   "metadata": {},
   "outputs": [
    {
     "name": "stdout",
     "output_type": "stream",
     "text": [
      "Super group 5:: AD =  0.10641666253407796\n",
      "Epoch 1/10\n",
      "3125/3125 [==============================] - 13s 4ms/step - loss: 1.1033 - accuracy: 0.6020\n",
      "Epoch 2/10\n",
      "3125/3125 [==============================] - 12s 4ms/step - loss: 0.7909 - accuracy: 0.7186\n",
      "Epoch 3/10\n",
      "3125/3125 [==============================] - 12s 4ms/step - loss: 0.6998 - accuracy: 0.7536\n",
      "Epoch 4/10\n",
      "3125/3125 [==============================] - 14s 4ms/step - loss: 0.6348 - accuracy: 0.7762\n",
      "Epoch 5/10\n",
      "3125/3125 [==============================] - 13s 4ms/step - loss: 0.5784 - accuracy: 0.7964\n",
      "Epoch 6/10\n",
      "3125/3125 [==============================] - 14s 4ms/step - loss: 0.5340 - accuracy: 0.8102\n",
      "Epoch 7/10\n",
      "3125/3125 [==============================] - 14s 4ms/step - loss: 0.4895 - accuracy: 0.8268\n",
      "Epoch 8/10\n",
      "3125/3125 [==============================] - 14s 5ms/step - loss: 0.4620 - accuracy: 0.8370\n",
      "Epoch 9/10\n",
      "3125/3125 [==============================] - 14s 4ms/step - loss: 0.4357 - accuracy: 0.8484\n",
      "Epoch 10/10\n",
      "3125/3125 [==============================] - 12s 4ms/step - loss: 0.4049 - accuracy: 0.8572\n",
      "313/313 [==============================] - 1s 2ms/step - loss: 0.8720 - accuracy: 0.7332\n",
      "super group 5 : AD =  0.03156667947769165\n"
     ]
    }
   ],
   "source": [
    "\n",
    "for i in range(y):\n",
    "    if y_test[i] in [2,3,4,5,7] : #g5--> horse\n",
    "            sg1_conv,sg1=sg1_mod(root_conv)\n",
    "            if (AD5>threshold) and (y_test[i] in  [2,4]): \n",
    "                print('Super group 5:: AD = ',AD5)\n",
    "                sg5=sg5_mod(sg1_conv)\n",
    "                sg5.compile(optimizer=opt_02, loss='sparse_categorical_crossentropy', metrics=['accuracy'])\n",
    "                sg5_details=sg5.fit(x_train, y_train, batch_size, epochs=10)\n",
    "                loss,va2=sg5.evaluate(x_test,y_test)\n",
    "                AD5=delta_AD(va1,va2,MS1,MS2)\n",
    "                MS2=12\n",
    "                va_g5=va2\n",
    "                print('super group 5 : AD = ',AD5)\n",
    "                if(AD5<threshold):\n",
    "                    sg5.save('sg5.h5')\n",
    "                    gc.collect()\n",
    "                    break\n",
    "        \n",
    "        "
   ]
  },
  {
   "cell_type": "code",
   "execution_count": 31,
   "metadata": {},
   "outputs": [
    {
     "data": {
      "text/plain": [
       "0"
      ]
     },
     "execution_count": 31,
     "metadata": {},
     "output_type": "execute_result"
    }
   ],
   "source": [
    "gc.collect()"
   ]
  },
  {
   "cell_type": "markdown",
   "metadata": {},
   "source": [
    "# 7. Checking to ensure improvement in accuracy"
   ]
  },
  {
   "cell_type": "code",
   "execution_count": 33,
   "metadata": {},
   "outputs": [],
   "source": [
    "va_list=[va_g0,va_g1,va_g2,va_g3,va_g4,va_g5]"
   ]
  },
  {
   "cell_type": "code",
   "execution_count": 34,
   "metadata": {},
   "outputs": [
    {
     "name": "stdout",
     "output_type": "stream",
     "text": [
      "Accuracy of root node : 63.84999752044678\n",
      "Supergroup  0  has improved. From  63.84999752044678 % to  72.93000221252441 %\n",
      "Supergroup  1  has improved. From  63.84999752044678 % to  72.29999899864197 %\n",
      "Supergroup  2  has improved. From  63.84999752044678 % to  71.23000025749207 %\n",
      "Supergroup  3  has improved. From  63.84999752044678 % to  71.61999940872192 %\n",
      "Supergroup  4  has improved. From  63.84999752044678 % to  74.08000230789185 %\n",
      "Supergroup  5  has improved. From  63.84999752044678 % to  73.32000136375427 %\n"
     ]
    }
   ],
   "source": [
    "print(\"Accuracy of root node :\",va1*100)\n",
    "for i in range(6):\n",
    "    if va_list[i]>va1:\n",
    "        print(\"Supergroup \",i,\" has improved. From \",va1*100,\"% to \",va_list[i]*100,\"%\")"
   ]
  },
  {
   "cell_type": "markdown",
   "metadata": {},
   "source": [
    "# Conclusion :\n",
    "\n",
    "The trained architecture shows improvement in accuracy and occupies lesser memory"
   ]
  },
  {
   "cell_type": "code",
   "execution_count": null,
   "metadata": {},
   "outputs": [],
   "source": []
  },
  {
   "cell_type": "code",
   "execution_count": null,
   "metadata": {},
   "outputs": [],
   "source": []
  }
 ],
 "metadata": {
  "accelerator": "TPU",
  "colab": {
   "collapsed_sections": [],
   "name": "C10_MNN-1.ipynb",
   "provenance": []
  },
  "kernelspec": {
   "display_name": "gpu2",
   "language": "python",
   "name": "gpu2"
  },
  "language_info": {
   "codemirror_mode": {
    "name": "ipython",
    "version": 3
   },
   "file_extension": ".py",
   "mimetype": "text/x-python",
   "name": "python",
   "nbconvert_exporter": "python",
   "pygments_lexer": "ipython3",
   "version": "3.9.6"
  }
 },
 "nbformat": 4,
 "nbformat_minor": 4
}
