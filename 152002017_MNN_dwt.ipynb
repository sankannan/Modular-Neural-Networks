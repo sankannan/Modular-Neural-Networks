{
  "nbformat": 4,
  "nbformat_minor": 0,
  "metadata": {
    "colab": {
      "name": "152002017_MNN_dwt.ipynb",
      "provenance": [],
      "collapsed_sections": [],
      "machine_shape": "hm"
    },
    "kernelspec": {
      "display_name": "Python 3",
      "name": "python3"
    },
    "language_info": {
      "name": "python"
    },
    "accelerator": "TPU"
  },
  "cells": [
    {
      "cell_type": "markdown",
      "metadata": {
        "id": "X3qcA1VgTjFt"
      },
      "source": [
        "# Modular Neural Network for CIFAR 10"
      ]
    },
    {
      "cell_type": "code",
      "metadata": {
        "id": "yitrVsvMTp9k"
      },
      "source": [
        "!pip install tensorflow==1.14.0\n",
        "import tensorflow as tf\n",
        "\n",
        "print(tf.__version__)"
      ],
      "execution_count": null,
      "outputs": []
    },
    {
      "cell_type": "code",
      "metadata": {
        "id": "CPaSO1RFu2yV"
      },
      "source": [
        "!pip install h5py==2.10.0\n",
        "import h5py\n",
        "h5py.__version__"
      ],
      "execution_count": null,
      "outputs": []
    },
    {
      "cell_type": "markdown",
      "metadata": {
        "id": "nStJbIujhgsQ"
      },
      "source": [
        "\n",
        "In the below lines of code, an attempt to implement MNN for CIFAR 10 dataset has been made. \n",
        "\n",
        "* Contents of dataset :  \n",
        "> We have 60000 colour images of 32x32 \n",
        "> These are dispersed in 10 different classes, \n",
        "> in which each class contains 6000 images\n",
        "> In this 50000 images are used for training and 10000 for testing\n",
        "\n",
        "* The model that has been implemented based on the [research paper](https://drive.google.com/file/d/1eLd8RO6nVFDBdYpXCGVngzabiVaIphKM/view?usp=sharing) :\n",
        "\n",
        "![image.png](data:image/png;base64,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)\n",
        "\n"
      ]
    },
    {
      "cell_type": "markdown",
      "metadata": {
        "id": "_kSK4_ToTjF3"
      },
      "source": [
        "# 1. Loading the dataset and obtaining training and test sets"
      ]
    },
    {
      "cell_type": "code",
      "metadata": {
        "id": "qLyb-fIWUO-0"
      },
      "source": [
        "# Importing libraries initially required\n",
        "import matplotlib.pyplot as plots\n",
        "import tensorflow\n",
        "from tensorflow.keras.utils import to_categorical\n",
        "from tensorflow.keras import models,layers\n",
        "from tensorflow.keras.datasets import cifar10\n",
        "\n",
        "\n",
        "# loading cifar 10 dataset for training and testing.\n",
        "#x--> Images, y--> labels\n",
        "(img_train, label_train), (img_test, label_test) = cifar10.load_data()\n",
        "\n",
        "\n",
        "\n",
        "\n",
        "\n",
        "# setting class names\n",
        "c10_classes=['plane','automobile','bird','cat','deer','dog','frog','horse','ship','truck']\n",
        "#----------0:g2,-----1:g3,-----2:g1,5---3:g1,4-----4:g1,5-----5:g1,4----6:g0---7:g1-----8:g2------9:g3\n",
        "\n",
        "#normalizing the data\n",
        "img_train=img_train/255.0\n",
        "img_train.shape\n",
        "img_test=img_test/255.0\n",
        "img_test.shape\n",
        "\n",
        "#reshaping 2D shape of labels to 1D\n",
        "label_test = label_test.reshape(-1,)\n",
        "label_train = label_train.reshape(-1,)\n",
        "label_train = to_categorical(label_train, 10)\n",
        "label_test = to_categorical(label_test, 10)\n",
        "\n"
      ],
      "execution_count": null,
      "outputs": []
    },
    {
      "cell_type": "markdown",
      "metadata": {
        "id": "vYEkqYf9TjF5"
      },
      "source": [
        "# 2. Defining MNN tree structure as modules of different sizes"
      ]
    },
    {
      "cell_type": "markdown",
      "metadata": {
        "id": "7DHjakzKTjF6"
      },
      "source": [
        "##  Defining root module"
      ]
    },
    {
      "cell_type": "code",
      "metadata": {
        "colab": {
          "base_uri": "https://localhost:8080/"
        },
        "id": "k98d3MPt9jB6",
        "outputId": "0a045e42-0a49-4d8a-ebe1-aebbf4cf5b2b"
      },
      "source": [
        "from google.colab import drive\n",
        "drive.mount('/content/drive')"
      ],
      "execution_count": null,
      "outputs": [
        {
          "output_type": "stream",
          "name": "stdout",
          "text": [
            "Drive already mounted at /content/drive; to attempt to forcibly remount, call drive.mount(\"/content/drive\", force_remount=True).\n",
            "Drive already mounted at /content/drive; to attempt to forcibly remount, call drive.mount(\"/content/drive\", force_remount=True).\n"
          ]
        }
      ]
    },
    {
      "cell_type": "code",
      "metadata": {
        "id": "8oDX4NnY-Cd4"
      },
      "source": [
        "import tensorflow.keras.backend\n",
        "from tensorflow.keras.layers import Layer\n",
        "\n",
        "def normalize_data_reference(data):\n",
        "    if data is None:\n",
        "        data = tensorflow.keras.backend.image_data_format()\n",
        "    data_reference = data.lower()\n",
        "    if data_reference not in {'channels_first', 'channels_last'}:\n",
        "        raise ValueError('Please give an input that is part of  '\n",
        "                         '\"channels_first\" or \"channels_last\". Cannot process ' +\n",
        "                         str(data)+'data')\n",
        "    return data_reference\n",
        "\n",
        "\n",
        "class dwt_layer(Layer):\n",
        "    def __init__(self, data_reference=None,**kwargs):\n",
        "        super(dwt_layer, self).__init__(**kwargs)\n",
        "        self.data_reference = normalize_data_reference(data_reference)\n",
        "\n",
        "    def build(self, input_shape):\n",
        "        super(dwt_layer, self).build(input_shape) \n",
        "\n",
        "    def call(self, n):\n",
        "        return wavelet(n, self.data_reference)\n",
        "\n",
        "    def compute_output_shape(self, input_shape):\n",
        "        if self.data_reference == 'channels_first':\n",
        "            return (input_shape[0], input_shape[1]*4, input_shape[2]//2, input_shape[3]//2)\n",
        "        elif self.data_reference == 'channels_last':\n",
        "            return (input_shape[0], input_shape[1]//2, input_shape[2]//2, input_shape[3]*4)\n",
        "\n",
        "\n",
        "def wavelet(n, data_reference='channels_last'):\n",
        "    if data_reference == 'channels_last':\n",
        "        n1 = n[:, 0::2, 0::2, :] \n",
        "        n2 = n[:, 1::2, 0::2, :] \n",
        "        n3 = n[:, 0::2, 1::2, :] \n",
        "        n4 = n[:, 1::2, 1::2, :] \n",
        "\n",
        "    elif data_reference == 'channels_first':\n",
        "        n1 = n[:, :, 0::2, 0::2] \n",
        "        n2 = n[:, :, 1::2, 0::2] \n",
        "        n3 = n[:, :, 0::2, 1::2] \n",
        "        n4 = n[:, :, 1::2, 1::2]      \n",
        "\n",
        "    LL = n1 + n2 + n3 + n4\n",
        "    LH = -n1 - n3 + n2 + n4\n",
        "    HL = -n1 + n3 - n2 + n4\n",
        "    HH = n1 - n3 - n2 + n4\n",
        "\n",
        "    if data_reference == 'channels_last':\n",
        "        return tensorflow.keras.backend.concatenate([LL,LH,HL,HH],axis=-1)\n",
        "    elif data_reference == 'channels_first':\n",
        "        return tensorflow.keras.backend.concatenate([LL,LH,HL,HH],axis=1)\n",
        "\n"
      ],
      "execution_count": null,
      "outputs": []
    },
    {
      "cell_type": "markdown",
      "metadata": {
        "id": "0U7pfYgSkbPT"
      },
      "source": [
        "Data Augmentation"
      ]
    },
    {
      "cell_type": "code",
      "metadata": {
        "id": "LUsE65LwkdSP"
      },
      "source": [
        "from tensorflow.keras.preprocessing.image import ImageDataGenerator\n",
        "\n",
        "augment_gen = ImageDataGenerator( rotation_range=90, width_shift_range=0.1, height_shift_range=0.1, horizontal_flip=True)\n",
        "augment_gen.fit(img_train)\n",
        "\n",
        "augment_gen = ImageDataGenerator(\n",
        "    rotation_range=10,\n",
        "    width_shift_range=0.1,\n",
        "    height_shift_range=0.1,\n",
        "    horizontal_flip=True,\n",
        "    )\n",
        "augment_gen.fit(img_train)\n",
        " \n"
      ],
      "execution_count": null,
      "outputs": []
    },
    {
      "cell_type": "code",
      "metadata": {
        "id": "qfiLAFnoZCq0"
      },
      "source": [
        "import tensorflow as tf\n",
        "from tensorflow.keras import models,layers\n",
        "import matplotlib.pyplot as plots\n",
        "import pywt\n",
        "import cv2\n",
        "\n",
        "#defining root module\n",
        "def root_module():\n",
        "\n",
        "    root_conv= models.Sequential([\n",
        "        layers.Conv2D(32,(3,3), activation = 'relu',  padding = 'same', input_shape = (32,32,3)),\n",
        "        layers.Dropout(0.2),\n",
        "        layers.Conv2D(32,(3,3), activation = 'relu', padding = 'same'),  \n",
        "        layers.Dropout(0.2),\n",
        "        \n",
        "              ])   \n",
        "    out= models.Sequential([\n",
        "        root_conv #2\n",
        "    ])\n",
        "    out.add(dwt_layer()) #4\n",
        "    out.add(layers.Flatten()) #5\n",
        "    out.add(layers.Dense(128, activation = 'relu')) #6\n",
        "    out.add(layers.Dropout(0.5))    #7\n",
        "    out.add(layers.Dense(64, activation = 'relu')) #8\n",
        "    out.add(layers.Dropout(0.5)) #9\n",
        "    out.add(layers.Dense(10, activation = 'softmax') ) #10\n",
        "    \n",
        "\n",
        "    return root_conv,out\n",
        " \n",
        "\n",
        "    \n",
        "              \n",
        "# vgg : 1 block - 10 layers\n"
      ],
      "execution_count": null,
      "outputs": []
    },
    {
      "cell_type": "code",
      "metadata": {
        "colab": {
          "base_uri": "https://localhost:8080/"
        },
        "id": "soJB-51jqkwO",
        "outputId": "ad72a1b6-41ab-4e0b-8b8e-96957284483a"
      },
      "source": [
        "root_conv,root=root_module()"
      ],
      "execution_count": null,
      "outputs": [
        {
          "output_type": "stream",
          "name": "stdout",
          "text": [
            "WARNING:tensorflow:From /usr/local/lib/python3.7/dist-packages/tensorflow/python/ops/init_ops.py:1251: calling VarianceScaling.__init__ (from tensorflow.python.ops.init_ops) with dtype is deprecated and will be removed in a future version.\n",
            "Instructions for updating:\n",
            "Call initializer instance with the dtype argument instead of passing it to the constructor\n",
            "WARNING:tensorflow:Entity <bound method dwt_layer.call of <__main__.dwt_layer object at 0x7f1abbe4d250>> could not be transformed and will be executed as-is. Please report this to the AutgoGraph team. When filing the bug, set the verbosity to 10 (on Linux, `export AUTOGRAPH_VERBOSITY=10`) and attach the full output. Cause: converting <bound method dwt_layer.call of <__main__.dwt_layer object at 0x7f1abbe4d250>>: AssertionError: Bad argument number for Name: 3, expecting 4\n",
            "WARNING: Entity <bound method dwt_layer.call of <__main__.dwt_layer object at 0x7f1abbe4d250>> could not be transformed and will be executed as-is. Please report this to the AutgoGraph team. When filing the bug, set the verbosity to 10 (on Linux, `export AUTOGRAPH_VERBOSITY=10`) and attach the full output. Cause: converting <bound method dwt_layer.call of <__main__.dwt_layer object at 0x7f1abbe4d250>>: AssertionError: Bad argument number for Name: 3, expecting 4\n"
          ]
        }
      ]
    },
    {
      "cell_type": "code",
      "metadata": {
        "colab": {
          "base_uri": "https://localhost:8080/"
        },
        "id": "tH7YgPmRqEta",
        "outputId": "3d75dd21-ed87-4764-a5cb-9adbcc379ef3"
      },
      "source": [
        "from tensorflow.keras.optimizers import SGD\n",
        "\n",
        "sgd = SGD(lr=0.01, momentum=0.9, decay=0.001, nesterov=False) \n",
        "\n",
        "root.compile(loss='categorical_crossentropy', optimizer=sgd, metrics=['accuracy'])\n",
        "root.fit_generator(augment_gen.flow(img_train, label_train),steps_per_epoch = len(img_train)//32,epochs=30, verbose=1,validation_data=(img_test,label_test))\n"
      ],
      "execution_count": null,
      "outputs": [
        {
          "output_type": "stream",
          "name": "stdout",
          "text": [
            "Epoch 1/30\n",
            "1562/1562 [==============================] - 56s 36ms/step - loss: 1.4355 - acc: 0.4918 - val_loss: 1.2635 - val_acc: 0.5434\n",
            "Epoch 2/30\n",
            "1562/1562 [==============================] - 54s 35ms/step - loss: 1.4165 - acc: 0.4948 - val_loss: 1.1714 - val_acc: 0.5825\n",
            "Epoch 3/30\n",
            "1562/1562 [==============================] - 55s 35ms/step - loss: 1.4070 - acc: 0.4997 - val_loss: 1.1798 - val_acc: 0.5847\n",
            "Epoch 4/30\n",
            "1562/1562 [==============================] - 55s 35ms/step - loss: 1.3960 - acc: 0.5079 - val_loss: 1.1648 - val_acc: 0.5874\n",
            "Epoch 5/30\n",
            "1562/1562 [==============================] - 55s 35ms/step - loss: 1.3900 - acc: 0.5088 - val_loss: 1.1642 - val_acc: 0.5812\n",
            "Epoch 6/30\n",
            "1562/1562 [==============================] - 55s 35ms/step - loss: 1.3673 - acc: 0.5146 - val_loss: 1.1339 - val_acc: 0.5953\n",
            "Epoch 7/30\n",
            "1562/1562 [==============================] - 54s 35ms/step - loss: 1.3640 - acc: 0.5184 - val_loss: 1.1324 - val_acc: 0.5934\n",
            "Epoch 8/30\n",
            "1562/1562 [==============================] - 54s 35ms/step - loss: 1.3492 - acc: 0.5284 - val_loss: 1.1010 - val_acc: 0.6094\n",
            "Epoch 9/30\n",
            "1562/1562 [==============================] - 54s 35ms/step - loss: 1.3515 - acc: 0.5289 - val_loss: 1.1240 - val_acc: 0.6014\n",
            "Epoch 10/30\n",
            "1562/1562 [==============================] - 55s 35ms/step - loss: 1.3405 - acc: 0.5281 - val_loss: 1.0980 - val_acc: 0.6008\n",
            "Epoch 11/30\n",
            "1562/1562 [==============================] - 53s 34ms/step - loss: 1.3333 - acc: 0.5307 - val_loss: 1.0481 - val_acc: 0.6242\n",
            "Epoch 12/30\n",
            "1562/1562 [==============================] - 54s 34ms/step - loss: 1.3300 - acc: 0.5345 - val_loss: 1.0852 - val_acc: 0.6149\n",
            "Epoch 13/30\n",
            "1562/1562 [==============================] - 54s 35ms/step - loss: 1.3172 - acc: 0.5390 - val_loss: 1.0513 - val_acc: 0.6261\n",
            "Epoch 14/30\n",
            "1562/1562 [==============================] - 54s 35ms/step - loss: 1.3186 - acc: 0.5397 - val_loss: 1.0669 - val_acc: 0.6144\n",
            "Epoch 15/30\n",
            "1562/1562 [==============================] - 54s 35ms/step - loss: 1.3101 - acc: 0.5461 - val_loss: 1.0675 - val_acc: 0.6246\n",
            "Epoch 16/30\n",
            "1562/1562 [==============================] - 54s 35ms/step - loss: 1.3036 - acc: 0.5444 - val_loss: 1.0653 - val_acc: 0.6219\n",
            "Epoch 17/30\n",
            "1562/1562 [==============================] - 54s 34ms/step - loss: 1.3070 - acc: 0.5448 - val_loss: 1.1071 - val_acc: 0.6143\n",
            "Epoch 18/30\n",
            "1562/1562 [==============================] - 54s 35ms/step - loss: 1.2940 - acc: 0.5498 - val_loss: 1.0646 - val_acc: 0.6240\n",
            "Epoch 19/30\n",
            "1562/1562 [==============================] - 54s 35ms/step - loss: 1.2922 - acc: 0.5516 - val_loss: 1.0267 - val_acc: 0.6360\n",
            "Epoch 20/30\n",
            "1562/1562 [==============================] - 53s 34ms/step - loss: 1.2855 - acc: 0.5515 - val_loss: 1.0384 - val_acc: 0.6316\n",
            "Epoch 21/30\n",
            "1562/1562 [==============================] - 54s 35ms/step - loss: 1.2822 - acc: 0.5558 - val_loss: 1.0876 - val_acc: 0.6125\n",
            "Epoch 22/30\n",
            "1562/1562 [==============================] - 53s 34ms/step - loss: 1.2723 - acc: 0.5580 - val_loss: 1.0080 - val_acc: 0.6415\n",
            "Epoch 23/30\n",
            "1562/1562 [==============================] - 54s 35ms/step - loss: 1.2678 - acc: 0.5631 - val_loss: 1.0226 - val_acc: 0.6341\n",
            "Epoch 24/30\n",
            "1562/1562 [==============================] - 54s 35ms/step - loss: 1.2613 - acc: 0.5636 - val_loss: 1.0485 - val_acc: 0.6274\n",
            "Epoch 25/30\n",
            "1562/1562 [==============================] - 54s 35ms/step - loss: 1.2660 - acc: 0.5637 - val_loss: 0.9999 - val_acc: 0.6532\n",
            "Epoch 26/30\n",
            "1562/1562 [==============================] - 54s 35ms/step - loss: 1.2640 - acc: 0.5615 - val_loss: 1.0344 - val_acc: 0.6143\n",
            "Epoch 27/30\n",
            "1562/1562 [==============================] - 56s 36ms/step - loss: 1.2644 - acc: 0.5620 - val_loss: 1.0153 - val_acc: 0.6357\n",
            "Epoch 28/30\n",
            "1562/1562 [==============================] - 55s 35ms/step - loss: 1.2531 - acc: 0.5670 - val_loss: 1.0152 - val_acc: 0.6437\n",
            "Epoch 29/30\n",
            "1562/1562 [==============================] - 55s 35ms/step - loss: 1.2530 - acc: 0.5717 - val_loss: 0.9983 - val_acc: 0.6442\n",
            "Epoch 30/30\n",
            "1562/1562 [==============================] - 55s 35ms/step - loss: 1.2525 - acc: 0.5705 - val_loss: 1.0146 - val_acc: 0.6365\n"
          ]
        },
        {
          "output_type": "execute_result",
          "data": {
            "text/plain": [
              "<tensorflow.python.keras.callbacks.History at 0x7f7b496e0790>"
            ]
          },
          "metadata": {},
          "execution_count": 12
        }
      ]
    },
    {
      "cell_type": "code",
      "metadata": {
        "id": "zsj56NRQ86lZ"
      },
      "source": [
        "root_path=\"/content/drive/MyDrive/01_Colab_MNN/root_DWT_final.h5py\"\n",
        "root.save(root_path)\n"
      ],
      "execution_count": null,
      "outputs": []
    },
    {
      "cell_type": "code",
      "metadata": {
        "colab": {
          "base_uri": "https://localhost:8080/"
        },
        "id": "m4AJkXcm4lvD",
        "outputId": "bec673df-8dd7-4b4a-8381-f2e03718ee5d"
      },
      "source": [
        "root.summary()"
      ],
      "execution_count": null,
      "outputs": [
        {
          "output_type": "stream",
          "name": "stdout",
          "text": [
            "Model: \"sequential_1\"\n",
            "_________________________________________________________________\n",
            "Layer (type)                 Output Shape              Param #   \n",
            "=================================================================\n",
            "sequential (Sequential)      (None, 32, 32, 32)        10144     \n",
            "_________________________________________________________________\n",
            "dwt_layer (dwt_layer)        (None, 16, 16, 128)       0         \n",
            "_________________________________________________________________\n",
            "flatten (Flatten)            (None, 32768)             0         \n",
            "_________________________________________________________________\n",
            "dense (Dense)                (None, 128)               4194432   \n",
            "_________________________________________________________________\n",
            "dropout_2 (Dropout)          (None, 128)               0         \n",
            "_________________________________________________________________\n",
            "dense_1 (Dense)              (None, 64)                8256      \n",
            "_________________________________________________________________\n",
            "dropout_3 (Dropout)          (None, 64)                0         \n",
            "_________________________________________________________________\n",
            "dense_2 (Dense)              (None, 10)                650       \n",
            "=================================================================\n",
            "Total params: 4,213,482\n",
            "Trainable params: 4,213,482\n",
            "Non-trainable params: 0\n",
            "_________________________________________________________________\n"
          ]
        }
      ]
    },
    {
      "cell_type": "markdown",
      "metadata": {
        "id": "jEKSeuOyTjF7"
      },
      "source": [
        "##  Defining supergroup modules\n",
        "* Root (level 0)- VGG block of size 1\n",
        "* Supergroups at level 1 - VGG block of size 2\n",
        "* Supergroups at level 2 - VGG block of size 3\n"
      ]
    },
    {
      "cell_type": "code",
      "metadata": {
        "id": "wCUQqw6Tdlp6",
        "colab": {
          "base_uri": "https://localhost:8080/"
        },
        "outputId": "d7a0e245-89c8-4e9a-804d-b770a19c0bb5"
      },
      "source": [
        "from tensorflow.keras import regularizers\n",
        "\n",
        "def sg0_mod(root_conv):\n",
        "    \n",
        "    conv= models.Sequential([\n",
        "    root_conv,\n",
        "    dwt_layer(),\n",
        "    layers.Conv2D(64,(3,3), activation = 'relu', padding = 'same'),\n",
        "    layers.Conv2D(64,(3,3), activation = 'relu', padding = 'same'),\n",
        "              ])   \n",
        "    out= models.Sequential([\n",
        "    conv\n",
        "        ])#6\n",
        "    out.add(dwt_layer())\n",
        "    out.add(layers.Flatten())\n",
        "    out.add(layers.Dense(1024, activation = 'relu'))\n",
        "    out.add(layers.Dropout(0.2))   \n",
        "    out.add(layers.Dense(512, activation = 'relu'))\n",
        "    out.add(layers.Dropout(0.2)) #9\n",
        "    out.add(layers.Dense(10, activation = 'softmax') )\n",
        "    return out\n",
        "              \n",
        "\n",
        "\n",
        "#vgg : 2 block - 14 layers\n",
        "sg0=sg0_mod(root_conv)\n",
        "\n",
        "sg0.summary()\n",
        "\n"
      ],
      "execution_count": null,
      "outputs": [
        {
          "output_type": "stream",
          "name": "stdout",
          "text": [
            "WARNING:tensorflow:Entity <bound method dwt_layer.call of <__main__.dwt_layer object at 0x7f1aa4f74850>> could not be transformed and will be executed as-is. Please report this to the AutgoGraph team. When filing the bug, set the verbosity to 10 (on Linux, `export AUTOGRAPH_VERBOSITY=10`) and attach the full output. Cause: converting <bound method dwt_layer.call of <__main__.dwt_layer object at 0x7f1aa4f74850>>: AssertionError: Bad argument number for Name: 3, expecting 4\n",
            "WARNING: Entity <bound method dwt_layer.call of <__main__.dwt_layer object at 0x7f1aa4f74850>> could not be transformed and will be executed as-is. Please report this to the AutgoGraph team. When filing the bug, set the verbosity to 10 (on Linux, `export AUTOGRAPH_VERBOSITY=10`) and attach the full output. Cause: converting <bound method dwt_layer.call of <__main__.dwt_layer object at 0x7f1aa4f74850>>: AssertionError: Bad argument number for Name: 3, expecting 4\n",
            "WARNING:tensorflow:Entity <bound method dwt_layer.call of <__main__.dwt_layer object at 0x7f1aa4f74850>> could not be transformed and will be executed as-is. Please report this to the AutgoGraph team. When filing the bug, set the verbosity to 10 (on Linux, `export AUTOGRAPH_VERBOSITY=10`) and attach the full output. Cause: converting <bound method dwt_layer.call of <__main__.dwt_layer object at 0x7f1aa4f74850>>: AssertionError: Bad argument number for Name: 3, expecting 4\n",
            "WARNING: Entity <bound method dwt_layer.call of <__main__.dwt_layer object at 0x7f1aa4f74850>> could not be transformed and will be executed as-is. Please report this to the AutgoGraph team. When filing the bug, set the verbosity to 10 (on Linux, `export AUTOGRAPH_VERBOSITY=10`) and attach the full output. Cause: converting <bound method dwt_layer.call of <__main__.dwt_layer object at 0x7f1aa4f74850>>: AssertionError: Bad argument number for Name: 3, expecting 4\n",
            "WARNING:tensorflow:Entity <bound method dwt_layer.call of <__main__.dwt_layer object at 0x7f1aa4e02790>> could not be transformed and will be executed as-is. Please report this to the AutgoGraph team. When filing the bug, set the verbosity to 10 (on Linux, `export AUTOGRAPH_VERBOSITY=10`) and attach the full output. Cause: converting <bound method dwt_layer.call of <__main__.dwt_layer object at 0x7f1aa4e02790>>: AssertionError: Bad argument number for Name: 3, expecting 4\n",
            "WARNING: Entity <bound method dwt_layer.call of <__main__.dwt_layer object at 0x7f1aa4e02790>> could not be transformed and will be executed as-is. Please report this to the AutgoGraph team. When filing the bug, set the verbosity to 10 (on Linux, `export AUTOGRAPH_VERBOSITY=10`) and attach the full output. Cause: converting <bound method dwt_layer.call of <__main__.dwt_layer object at 0x7f1aa4e02790>>: AssertionError: Bad argument number for Name: 3, expecting 4\n",
            "Model: \"sequential_3\"\n",
            "_________________________________________________________________\n",
            "Layer (type)                 Output Shape              Param #   \n",
            "=================================================================\n",
            "sequential_2 (Sequential)    (None, 16, 16, 64)        120864    \n",
            "_________________________________________________________________\n",
            "dwt_layer_2 (dwt_layer)      (None, 8, 8, 256)         0         \n",
            "_________________________________________________________________\n",
            "flatten_1 (Flatten)          (None, 16384)             0         \n",
            "_________________________________________________________________\n",
            "dense_3 (Dense)              (None, 1024)              16778240  \n",
            "_________________________________________________________________\n",
            "dropout_4 (Dropout)          (None, 1024)              0         \n",
            "_________________________________________________________________\n",
            "dense_4 (Dense)              (None, 512)               524800    \n",
            "_________________________________________________________________\n",
            "dropout_5 (Dropout)          (None, 512)               0         \n",
            "_________________________________________________________________\n",
            "dense_5 (Dense)              (None, 10)                5130      \n",
            "=================================================================\n",
            "Total params: 17,429,034\n",
            "Trainable params: 17,429,034\n",
            "Non-trainable params: 0\n",
            "_________________________________________________________________\n"
          ]
        }
      ]
    },
    {
      "cell_type": "code",
      "metadata": {
        "id": "LVbbg4EP_v2q"
      },
      "source": [
        "def sg1_mod(root_conv):\n",
        "    \n",
        "    conv= models.Sequential([\n",
        "    root_conv,\n",
        "    dwt_layer(),\n",
        "    layers.Conv2D(64,(3,3), activation = 'relu', padding = 'same'),\n",
        "    layers.Conv2D(64,(3,3), activation = 'relu', padding = 'same'),\n",
        "              ])   \n",
        "    out= models.Sequential([\n",
        "    conv\n",
        "        ])#6\n",
        "    out.add(dwt_layer())\n",
        "    out.add(layers.Flatten())\n",
        "    out.add(layers.Dense(1024, activation = 'relu'))\n",
        "    out.add(layers.Dropout(0.2))   \n",
        "    out.add(layers.Dense(512, activation = 'relu'))\n",
        "    out.add(layers.Dropout(0.2)) #9\n",
        "    out.add(layers.Dense(10, activation = 'softmax') )\n",
        "    return conv, out\n",
        "#vgg : 2 block - 14 layers\n",
        "\n",
        "from tensorflow.keras import regularizers\n",
        "def sg2_mod(root_conv):\n",
        "    \n",
        "    conv= models.Sequential([\n",
        "    root_conv,\n",
        "    dwt_layer(),\n",
        "    layers.Conv2D(64,(3,3), activation = 'relu', padding = 'same'),\n",
        "    layers.Conv2D(64,(3,3), activation = 'relu', padding = 'same'),\n",
        "              ])   \n",
        "    out= models.Sequential([\n",
        "    conv\n",
        "        ])#6\n",
        "    out.add(dwt_layer())\n",
        "    out.add(layers.Flatten())\n",
        "    out.add(layers.Dense(1024, activation = 'relu'))\n",
        "    out.add(layers.Dropout(0.2))   \n",
        "    out.add(layers.Dense(512, activation = 'relu'))\n",
        "    out.add(layers.Dropout(0.2)) #9\n",
        "    out.add(layers.Dense(10, activation = 'softmax') )\n",
        "    return out\n",
        "\n",
        "\n",
        "#vgg : 2 block - 14 layers\n",
        "\n",
        "\n",
        "\n",
        "\n",
        "#vgg : 2 block - 14 layers\n",
        "\n",
        "              \n",
        "def sg3_mod(root_conv):\n",
        "    \n",
        "    conv= models.Sequential([\n",
        "    root_conv,\n",
        "    dwt_layer(),\n",
        "    layers.Conv2D(64,(3,3), activation = 'relu', padding = 'same'),\n",
        "    layers.Conv2D(64,(3,3), activation = 'relu', padding = 'same'),\n",
        "              ])   \n",
        "    out= models.Sequential([\n",
        "    conv\n",
        "        ])#6\n",
        "    out.add(dwt_layer())\n",
        "    out.add(layers.Flatten())\n",
        "    out.add(layers.Dense(1024, activation = 'relu'))\n",
        "    out.add(layers.Dropout(0.2))   \n",
        "    out.add(layers.Dense(512, activation = 'relu'))\n",
        "    out.add(layers.Dropout(0.2)) #9\n",
        "    out.add(layers.Dense(10, activation = 'softmax') )\n",
        "    return out\n",
        "              \n",
        "#14\n",
        "              \n",
        "def sg4_mod(sg_conv):\n",
        "    \n",
        "    conv= models.Sequential([\n",
        "    sg_conv,\n",
        "    layers.Conv2D(128,(3,3), activation = 'relu', padding = 'same'),\n",
        "    layers.Conv2D(128,(3,3), activation = 'relu', padding = 'same'),\n",
        "    ])   \n",
        "    out= models.Sequential([\n",
        "    conv\n",
        "        ])#6\n",
        "    out.add(layers.Flatten())\n",
        "    out.add(layers.Dense(1024, activation = 'relu'))\n",
        "    out.add(layers.Dropout(0.2))   \n",
        "    out.add(layers.Dense(512, activation = 'relu'))\n",
        "    out.add(layers.Dropout(0.2)) #9\n",
        "    out.add(layers.Dense(10, activation = 'softmax') )\n",
        "    return out\n",
        "#vgg :  21 layers\n",
        "              \n",
        "def sg5_mod(sg_conv):\n",
        "    \n",
        "    conv= models.Sequential([\n",
        "    sg_conv,\n",
        "    dwt_layer(),\n",
        "    layers.Conv2D(128,(3,3), activation = 'relu', padding = 'same'),\n",
        "    layers.Conv2D(128,(3,3), activation = 'relu', padding = 'same'),\n",
        "    ])   \n",
        "    out= models.Sequential([\n",
        "    conv\n",
        "        ])#6\n",
        "    out.add(layers.Flatten())\n",
        "    out.add(layers.Dense(1024, activation = 'relu'))\n",
        "    out.add(layers.Dropout(0.2))   \n",
        "    out.add(layers.Dense(512, activation = 'relu'))\n",
        "    out.add(layers.Dropout(0.2)) #9\n",
        "    out.add(layers.Dense(10, activation = 'softmax') )\n",
        "    return out\n",
        "#vgg : 3 block -  17 layers"
      ],
      "execution_count": null,
      "outputs": []
    },
    {
      "cell_type": "markdown",
      "metadata": {
        "id": "lFcMEGuwTjF8"
      },
      "source": [
        "# 3. Loading  Root node"
      ]
    },
    {
      "cell_type": "code",
      "metadata": {
        "colab": {
          "base_uri": "https://localhost:8080/"
        },
        "id": "OD_7mmOSTjF9",
        "outputId": "e0857ffa-6ce7-42b9-d543-e616bc4e8b26"
      },
      "source": [
        "root_path=\"/content/drive/MyDrive/01_Colab_MNN/root_DWT_final.h5py\"\n",
        "\n",
        "root_conv,root=root_module()\n",
        "\n",
        "root = tf.keras.models.load_model(root_path, custom_objects={'dwt_layer':  dwt_layer})\n",
        "#only for loading on colab\n",
        "\n",
        "loss,va1= root.evaluate(img_test,label_test,8)\n"
      ],
      "execution_count": null,
      "outputs": [
        {
          "output_type": "stream",
          "name": "stdout",
          "text": [
            "WARNING:tensorflow:Entity <bound method dwt_layer.call of <__main__.dwt_layer object at 0x7f1a9f84d7d0>> could not be transformed and will be executed as-is. Please report this to the AutgoGraph team. When filing the bug, set the verbosity to 10 (on Linux, `export AUTOGRAPH_VERBOSITY=10`) and attach the full output. Cause: converting <bound method dwt_layer.call of <__main__.dwt_layer object at 0x7f1a9f84d7d0>>: AssertionError: Bad argument number for Name: 3, expecting 4\n",
            "WARNING: Entity <bound method dwt_layer.call of <__main__.dwt_layer object at 0x7f1a9f84d7d0>> could not be transformed and will be executed as-is. Please report this to the AutgoGraph team. When filing the bug, set the verbosity to 10 (on Linux, `export AUTOGRAPH_VERBOSITY=10`) and attach the full output. Cause: converting <bound method dwt_layer.call of <__main__.dwt_layer object at 0x7f1a9f84d7d0>>: AssertionError: Bad argument number for Name: 3, expecting 4\n",
            "WARNING:tensorflow:From /usr/local/lib/python3.7/dist-packages/tensorflow/python/ops/init_ops.py:97: calling GlorotUniform.__init__ (from tensorflow.python.ops.init_ops) with dtype is deprecated and will be removed in a future version.\n",
            "Instructions for updating:\n",
            "Call initializer instance with the dtype argument instead of passing it to the constructor\n",
            "WARNING:tensorflow:From /usr/local/lib/python3.7/dist-packages/tensorflow/python/ops/init_ops.py:97: calling Zeros.__init__ (from tensorflow.python.ops.init_ops) with dtype is deprecated and will be removed in a future version.\n",
            "Instructions for updating:\n",
            "Call initializer instance with the dtype argument instead of passing it to the constructor\n",
            "WARNING:tensorflow:Entity <bound method dwt_layer.call of <__main__.dwt_layer object at 0x7f1a9f935210>> could not be transformed and will be executed as-is. Please report this to the AutgoGraph team. When filing the bug, set the verbosity to 10 (on Linux, `export AUTOGRAPH_VERBOSITY=10`) and attach the full output. Cause: converting <bound method dwt_layer.call of <__main__.dwt_layer object at 0x7f1a9f935210>>: AssertionError: Bad argument number for Name: 3, expecting 4\n",
            "WARNING: Entity <bound method dwt_layer.call of <__main__.dwt_layer object at 0x7f1a9f935210>> could not be transformed and will be executed as-is. Please report this to the AutgoGraph team. When filing the bug, set the verbosity to 10 (on Linux, `export AUTOGRAPH_VERBOSITY=10`) and attach the full output. Cause: converting <bound method dwt_layer.call of <__main__.dwt_layer object at 0x7f1a9f935210>>: AssertionError: Bad argument number for Name: 3, expecting 4\n",
            "10000/10000 [==============================] - 5s 517us/sample - loss: 1.0150 - acc: 0.6365\n"
          ]
        }
      ]
    },
    {
      "cell_type": "markdown",
      "metadata": {
        "id": "vRJNm_8oTjF_"
      },
      "source": [
        "# 5. Training supergroups \n",
        "\n",
        "based on the condition that change in accuracy density is greater than threshold if it is lesser then the subgroup need not be trained"
      ]
    },
    {
      "cell_type": "code",
      "metadata": {
        "id": "tIx2qQm6tmd-"
      },
      "source": [
        "'''\n",
        "----------------0------------1---------2------3-----4-----5-------6------7------8-------9-----\n",
        "c10_classes=['plane','automobile','bird','cat','deer','dog','frog','horse','ship','truck']\n",
        "plane, car,  bird, cat,  deer,  dog,  frog,horse, ship, \n",
        "#----------0:g2,-----1:g3,-----2:g1,5---3:g1,4-----4:g1,5-----5:g1,4----6:g0---7:g1-----8:g2------9:g3\n",
        "#frog--> \n",
        "#plane,ship :              0,8 --- > g2\n",
        "#automobile,truck:            1,9 ---> g3\n",
        "#bird,cat,deer,dog,horse:  2,3,4,5,7\n",
        "#cat,dog --> sg4 (3,5)\n",
        "#bird,deer --> sg5 (2,4)\n",
        "###################################################################################################################################################\n",
        "'''\n",
        "\n",
        "import gc\n",
        "gc.collect()\n",
        "\n",
        "\n",
        "from tensorflow.keras.optimizers import SGD\n",
        "import numpy as np\n",
        "\n",
        "sgd = SGD(lr=0.01, momentum=0.9, decay=0.001, nesterov=False) \n",
        "\n",
        "y=len(label_test)\n",
        "\n",
        "avg = np.mean(img_train,axis=(0,1,2,3))\n",
        "SD = np.std(img_train,axis=(0,1,2,3))\n",
        "img_train = (img_train-avg)/(SD+1e-7)\n",
        "img_test = (img_test-avg)/(SD+1e-7)\n",
        "\n",
        "\n",
        "sg0_path=\"/content/drive/MyDrive/01_Colab_MNN/sg0.h5\"\n",
        "sg2_path=\"/content/drive/MyDrive/01_Colab_MNN/sg2.h5\"\n",
        "sg1_path=\"/content/drive/MyDrive/01_Colab_MNN/sg1.h5\"\n",
        "sg3_path=\"/content/drive/MyDrive/01_Colab_MNN/sg3.h5\"\n",
        "sg4_path=\"/content/drive/MyDrive/01_Colab_MNN/sg4.h5\"\n",
        "sg5_path=\"/content/drive/MyDrive/01_Colab_MNN/sg5.h5\""
      ],
      "execution_count": null,
      "outputs": []
    },
    {
      "cell_type": "markdown",
      "metadata": {
        "id": "e0KZRD94tYcq"
      },
      "source": [
        "## Training Supergroup 0"
      ]
    },
    {
      "cell_type": "code",
      "metadata": {
        "colab": {
          "base_uri": "https://localhost:8080/"
        },
        "id": "wfwrOrT2szDF",
        "outputId": "b3133846-3fa4-48b5-d9fe-541c785760cf"
      },
      "source": [
        "root_conv,root=root_module()\n",
        "\n",
        "for i in range(y):\n",
        "    if np.argmax(label_test[i]) in [6] :\n",
        "            print('super group 0 : AD = ',AD0)\n",
        "            sg0=sg0_mod(root_conv)\n",
        "            sg0.compile(loss='categorical_crossentropy', optimizer=sgd, metrics=['accuracy'])\n",
        "            sg0.fit_generator(augment_gen.flow(img_train, label_train),steps_per_epoch = len(img_train)//32,epochs=15, verbose=1,validation_data=(img_test,label_test))\n",
        "            loss,va2=sg0.evaluate(img_test,label_test)\n",
        "            va_g0=va2\n",
        "            MS2=21\n",
        "            gc.collect()\n",
        "            sg0.save(sg1_path)\n",
        "            \n",
        "\n",
        "print(\"Accuracy: %.2f%%\" % (va2*100))\n"
      ],
      "execution_count": null,
      "outputs": [
        {
          "output_type": "stream",
          "name": "stdout",
          "text": [
            "WARNING:tensorflow:Entity <bound method dwt_layer.call of <__main__.dwt_layer object at 0x7f7b26912b50>> could not be transformed and will be executed as-is. Please report this to the AutgoGraph team. When filing the bug, set the verbosity to 10 (on Linux, `export AUTOGRAPH_VERBOSITY=10`) and attach the full output. Cause: converting <bound method dwt_layer.call of <__main__.dwt_layer object at 0x7f7b26912b50>>: AssertionError: Bad argument number for Name: 3, expecting 4\n",
            "WARNING: Entity <bound method dwt_layer.call of <__main__.dwt_layer object at 0x7f7b26912b50>> could not be transformed and will be executed as-is. Please report this to the AutgoGraph team. When filing the bug, set the verbosity to 10 (on Linux, `export AUTOGRAPH_VERBOSITY=10`) and attach the full output. Cause: converting <bound method dwt_layer.call of <__main__.dwt_layer object at 0x7f7b26912b50>>: AssertionError: Bad argument number for Name: 3, expecting 4\n",
            "super group 0 : AD =  6.365000009536743\n",
            "WARNING:tensorflow:Entity <bound method dwt_layer.call of <__main__.dwt_layer object at 0x7f7b193db850>> could not be transformed and will be executed as-is. Please report this to the AutgoGraph team. When filing the bug, set the verbosity to 10 (on Linux, `export AUTOGRAPH_VERBOSITY=10`) and attach the full output. Cause: converting <bound method dwt_layer.call of <__main__.dwt_layer object at 0x7f7b193db850>>: AssertionError: Bad argument number for Name: 3, expecting 4\n",
            "WARNING: Entity <bound method dwt_layer.call of <__main__.dwt_layer object at 0x7f7b193db850>> could not be transformed and will be executed as-is. Please report this to the AutgoGraph team. When filing the bug, set the verbosity to 10 (on Linux, `export AUTOGRAPH_VERBOSITY=10`) and attach the full output. Cause: converting <bound method dwt_layer.call of <__main__.dwt_layer object at 0x7f7b193db850>>: AssertionError: Bad argument number for Name: 3, expecting 4\n",
            "WARNING:tensorflow:Entity <bound method dwt_layer.call of <__main__.dwt_layer object at 0x7f7b193466d0>> could not be transformed and will be executed as-is. Please report this to the AutgoGraph team. When filing the bug, set the verbosity to 10 (on Linux, `export AUTOGRAPH_VERBOSITY=10`) and attach the full output. Cause: converting <bound method dwt_layer.call of <__main__.dwt_layer object at 0x7f7b193466d0>>: AssertionError: Bad argument number for Name: 3, expecting 4\n",
            "WARNING: Entity <bound method dwt_layer.call of <__main__.dwt_layer object at 0x7f7b193466d0>> could not be transformed and will be executed as-is. Please report this to the AutgoGraph team. When filing the bug, set the verbosity to 10 (on Linux, `export AUTOGRAPH_VERBOSITY=10`) and attach the full output. Cause: converting <bound method dwt_layer.call of <__main__.dwt_layer object at 0x7f7b193466d0>>: AssertionError: Bad argument number for Name: 3, expecting 4\n",
            "WARNING:tensorflow:Entity <bound method dwt_layer.call of <__main__.dwt_layer object at 0x7f7b193db850>> could not be transformed and will be executed as-is. Please report this to the AutgoGraph team. When filing the bug, set the verbosity to 10 (on Linux, `export AUTOGRAPH_VERBOSITY=10`) and attach the full output. Cause: converting <bound method dwt_layer.call of <__main__.dwt_layer object at 0x7f7b193db850>>: AssertionError: Bad argument number for Name: 3, expecting 4\n",
            "WARNING: Entity <bound method dwt_layer.call of <__main__.dwt_layer object at 0x7f7b193db850>> could not be transformed and will be executed as-is. Please report this to the AutgoGraph team. When filing the bug, set the verbosity to 10 (on Linux, `export AUTOGRAPH_VERBOSITY=10`) and attach the full output. Cause: converting <bound method dwt_layer.call of <__main__.dwt_layer object at 0x7f7b193db850>>: AssertionError: Bad argument number for Name: 3, expecting 4\n",
            "WARNING:tensorflow:Entity <bound method dwt_layer.call of <__main__.dwt_layer object at 0x7f7b193466d0>> could not be transformed and will be executed as-is. Please report this to the AutgoGraph team. When filing the bug, set the verbosity to 10 (on Linux, `export AUTOGRAPH_VERBOSITY=10`) and attach the full output. Cause: converting <bound method dwt_layer.call of <__main__.dwt_layer object at 0x7f7b193466d0>>: AssertionError: Bad argument number for Name: 3, expecting 4\n",
            "WARNING: Entity <bound method dwt_layer.call of <__main__.dwt_layer object at 0x7f7b193466d0>> could not be transformed and will be executed as-is. Please report this to the AutgoGraph team. When filing the bug, set the verbosity to 10 (on Linux, `export AUTOGRAPH_VERBOSITY=10`) and attach the full output. Cause: converting <bound method dwt_layer.call of <__main__.dwt_layer object at 0x7f7b193466d0>>: AssertionError: Bad argument number for Name: 3, expecting 4\n",
            "Epoch 1/15\n",
            "1562/1562 [==============================] - 108s 69ms/step - loss: 3.0744 - acc: 0.3993 - val_loss: 1.5824 - val_acc: 0.5433\n",
            "Epoch 2/15\n",
            "1562/1562 [==============================] - 101s 65ms/step - loss: 1.5314 - acc: 0.5270 - val_loss: 1.3404 - val_acc: 0.5822\n",
            "Epoch 3/15\n",
            "1562/1562 [==============================] - 102s 65ms/step - loss: 1.3512 - acc: 0.5832 - val_loss: 1.1620 - val_acc: 0.6636\n",
            "Epoch 4/15\n",
            "1562/1562 [==============================] - 106s 68ms/step - loss: 1.2560 - acc: 0.6197 - val_loss: 1.1490 - val_acc: 0.6659\n",
            "Epoch 5/15\n",
            "1562/1562 [==============================] - 109s 70ms/step - loss: 1.1810 - acc: 0.6496 - val_loss: 1.0635 - val_acc: 0.6888\n",
            "Epoch 6/15\n",
            "1562/1562 [==============================] - 107s 69ms/step - loss: 1.1338 - acc: 0.6668 - val_loss: 0.9901 - val_acc: 0.7158\n",
            "Epoch 7/15\n",
            "1562/1562 [==============================] - 106s 68ms/step - loss: 1.0935 - acc: 0.6805 - val_loss: 0.9451 - val_acc: 0.7338\n",
            "Epoch 8/15\n",
            "1562/1562 [==============================] - 108s 69ms/step - loss: 1.0693 - acc: 0.6914 - val_loss: 0.9426 - val_acc: 0.7380\n",
            "Epoch 9/15\n",
            "1562/1562 [==============================] - 108s 69ms/step - loss: 1.0379 - acc: 0.7009 - val_loss: 0.9276 - val_acc: 0.7403\n",
            "Epoch 10/15\n",
            "1562/1562 [==============================] - 109s 70ms/step - loss: 1.0163 - acc: 0.7089 - val_loss: 0.8852 - val_acc: 0.7551\n",
            "Epoch 11/15\n",
            "1562/1562 [==============================] - 111s 71ms/step - loss: 0.9981 - acc: 0.7178 - val_loss: 0.8824 - val_acc: 0.7564\n",
            "Epoch 12/15\n",
            "1562/1562 [==============================] - 109s 70ms/step - loss: 0.9781 - acc: 0.7229 - val_loss: 0.8843 - val_acc: 0.7593\n",
            "Epoch 13/15\n",
            "1562/1562 [==============================] - 109s 70ms/step - loss: 0.9673 - acc: 0.7246 - val_loss: 0.8936 - val_acc: 0.7567\n",
            "Epoch 14/15\n",
            "1562/1562 [==============================] - 110s 70ms/step - loss: 0.9531 - acc: 0.7306 - val_loss: 0.8460 - val_acc: 0.7706\n",
            "Epoch 15/15\n",
            "1562/1562 [==============================] - 107s 68ms/step - loss: 0.9402 - acc: 0.7369 - val_loss: 0.8700 - val_acc: 0.7608\n",
            "10000/10000 [==============================] - 6s 575us/sample - loss: 0.8699 - acc: 0.7608\n",
            "super group 0 : AD =  6.365000009536743\n",
            "Accuracy: 76.08%\n"
          ]
        }
      ]
    },
    {
      "cell_type": "markdown",
      "metadata": {
        "id": "fvl9syGouAQM"
      },
      "source": [
        "## Training Supergroup 2\n"
      ]
    },
    {
      "cell_type": "code",
      "metadata": {
        "id": "iPXzHICIszJ6",
        "colab": {
          "base_uri": "https://localhost:8080/"
        },
        "outputId": "2e1d9954-7ac0-4e1a-8553-4e74cbad3d6c"
      },
      "source": [
        "for i in range(y):\n",
        "    if np.argmax(label_test[i]) in [0,8] :\n",
        "            sg2=sg2_mod(root_conv)\n",
        "            sg2.compile(loss='categorical_crossentropy', optimizer=sgd, metrics=['accuracy'])\n",
        "            sg2.fit_generator(augment_gen.flow(img_train, label_train),steps_per_epoch = len(img_train)//32,epochs=15, verbose=1,validation_data=(img_test,label_test))\n",
        "            loss,va2=sg2.evaluate(img_test,label_test)\n",
        "            va_g2=va2\n",
        "            sg2.save(sg2_path)\n",
        "            break\n",
        "gc.collect()\n",
        "\n"
      ],
      "execution_count": null,
      "outputs": [
        {
          "output_type": "stream",
          "name": "stdout",
          "text": [
            "WARNING:tensorflow:Entity <bound method dwt_layer.call of <__main__.dwt_layer object at 0x7f7b189d9350>> could not be transformed and will be executed as-is. Please report this to the AutgoGraph team. When filing the bug, set the verbosity to 10 (on Linux, `export AUTOGRAPH_VERBOSITY=10`) and attach the full output. Cause: converting <bound method dwt_layer.call of <__main__.dwt_layer object at 0x7f7b189d9350>>: AssertionError: Bad argument number for Name: 3, expecting 4\n",
            "WARNING: Entity <bound method dwt_layer.call of <__main__.dwt_layer object at 0x7f7b189d9350>> could not be transformed and will be executed as-is. Please report this to the AutgoGraph team. When filing the bug, set the verbosity to 10 (on Linux, `export AUTOGRAPH_VERBOSITY=10`) and attach the full output. Cause: converting <bound method dwt_layer.call of <__main__.dwt_layer object at 0x7f7b189d9350>>: AssertionError: Bad argument number for Name: 3, expecting 4\n",
            "WARNING:tensorflow:Entity <bound method dwt_layer.call of <__main__.dwt_layer object at 0x7f7b189d9350>> could not be transformed and will be executed as-is. Please report this to the AutgoGraph team. When filing the bug, set the verbosity to 10 (on Linux, `export AUTOGRAPH_VERBOSITY=10`) and attach the full output. Cause: converting <bound method dwt_layer.call of <__main__.dwt_layer object at 0x7f7b189d9350>>: AssertionError: Bad argument number for Name: 3, expecting 4\n",
            "WARNING: Entity <bound method dwt_layer.call of <__main__.dwt_layer object at 0x7f7b189d9350>> could not be transformed and will be executed as-is. Please report this to the AutgoGraph team. When filing the bug, set the verbosity to 10 (on Linux, `export AUTOGRAPH_VERBOSITY=10`) and attach the full output. Cause: converting <bound method dwt_layer.call of <__main__.dwt_layer object at 0x7f7b189d9350>>: AssertionError: Bad argument number for Name: 3, expecting 4\n",
            "WARNING:tensorflow:Entity <bound method dwt_layer.call of <__main__.dwt_layer object at 0x7f7b188ba210>> could not be transformed and will be executed as-is. Please report this to the AutgoGraph team. When filing the bug, set the verbosity to 10 (on Linux, `export AUTOGRAPH_VERBOSITY=10`) and attach the full output. Cause: converting <bound method dwt_layer.call of <__main__.dwt_layer object at 0x7f7b188ba210>>: AssertionError: Bad argument number for Name: 3, expecting 4\n",
            "WARNING: Entity <bound method dwt_layer.call of <__main__.dwt_layer object at 0x7f7b188ba210>> could not be transformed and will be executed as-is. Please report this to the AutgoGraph team. When filing the bug, set the verbosity to 10 (on Linux, `export AUTOGRAPH_VERBOSITY=10`) and attach the full output. Cause: converting <bound method dwt_layer.call of <__main__.dwt_layer object at 0x7f7b188ba210>>: AssertionError: Bad argument number for Name: 3, expecting 4\n",
            "Epoch 1/15\n",
            "1562/1562 [==============================] - 127s 81ms/step - loss: 1.6850 - acc: 0.3936 - val_loss: 1.2649 - val_acc: 0.5421\n",
            "Epoch 2/15\n",
            "1562/1562 [==============================] - 122s 78ms/step - loss: 1.3269 - acc: 0.5199 - val_loss: 1.1155 - val_acc: 0.6017\n",
            "Epoch 3/15\n",
            "1562/1562 [==============================] - 123s 79ms/step - loss: 1.1978 - acc: 0.5720 - val_loss: 1.0729 - val_acc: 0.6299\n",
            "Epoch 4/15\n",
            "1562/1562 [==============================] - 132s 84ms/step - loss: 1.1187 - acc: 0.6013 - val_loss: 1.0281 - val_acc: 0.6452\n",
            "Epoch 5/15\n",
            "1562/1562 [==============================] - 134s 86ms/step - loss: 1.0645 - acc: 0.6217 - val_loss: 0.8930 - val_acc: 0.6845\n",
            "Epoch 6/15\n",
            "1562/1562 [==============================] - 127s 82ms/step - loss: 1.0263 - acc: 0.6337 - val_loss: 0.9265 - val_acc: 0.6763\n",
            "Epoch 7/15\n",
            "1562/1562 [==============================] - 122s 78ms/step - loss: 0.9941 - acc: 0.6453 - val_loss: 0.8876 - val_acc: 0.6900\n",
            "Epoch 8/15\n",
            "1562/1562 [==============================] - 119s 76ms/step - loss: 0.9619 - acc: 0.6572 - val_loss: 0.8347 - val_acc: 0.7132\n",
            "Epoch 9/15\n",
            "1562/1562 [==============================] - 119s 76ms/step - loss: 0.9289 - acc: 0.6706 - val_loss: 0.8388 - val_acc: 0.7108\n",
            "Epoch 10/15\n",
            "1562/1562 [==============================] - 127s 81ms/step - loss: 0.9068 - acc: 0.6796 - val_loss: 0.7774 - val_acc: 0.7279\n",
            "Epoch 11/15\n",
            "1562/1562 [==============================] - 128s 82ms/step - loss: 0.8971 - acc: 0.6814 - val_loss: 0.8131 - val_acc: 0.7164\n",
            "Epoch 12/15\n",
            "1562/1562 [==============================] - 132s 84ms/step - loss: 0.8751 - acc: 0.6891 - val_loss: 0.7988 - val_acc: 0.7218\n",
            "Epoch 13/15\n",
            "1561/1562 [============================>.] - ETA: 0s - loss: 0.8541 - acc: 0.6974Epoch 14/15\n",
            "1562/1562 [==============================] - 128s 82ms/step - loss: 0.8480 - acc: 0.6998 - val_loss: 0.7997 - val_acc: 0.7278\n",
            "Epoch 15/15\n",
            "1562/1562 [==============================] - 138s 88ms/step - loss: 0.8335 - acc: 0.7049 - val_loss: 0.7459 - val_acc: 0.7398\n",
            "10000/10000 [==============================] - 6s 640us/sample - loss: 0.7449 - acc: 0.7398\n",
            "super group 2 : AD =  6.365000009536743\n"
          ]
        },
        {
          "output_type": "execute_result",
          "data": {
            "text/plain": [
              "554"
            ]
          },
          "metadata": {},
          "execution_count": 47
        }
      ]
    },
    {
      "cell_type": "markdown",
      "metadata": {
        "id": "Cxuf_TnhTjGA"
      },
      "source": [
        "## Training Supergroup 3"
      ]
    },
    {
      "cell_type": "code",
      "metadata": {
        "colab": {
          "base_uri": "https://localhost:8080/"
        },
        "id": "BTx2qgFlTjGA",
        "outputId": "03fe9f8c-e14c-484f-f7cc-62302745e808"
      },
      "source": [
        "AD3=AD_temp\n",
        "for i in range(y):\n",
        "    if np.argmax(label_test[i]) in [1,9] :\n",
        "            print('Super group 3 : AD = ',AD3)\n",
        "            sg3=sg3_mod(root_conv)\n",
        "            sg3.compile(loss='categorical_crossentropy', optimizer=sgd, metrics=['accuracy'])\n",
        "            sg3.fit_generator(augment_gen.flow(img_train, label_train),steps_per_epoch = len(img_train)//32,epochs=15, verbose=1,validation_data=(img_test,label_test))\n",
        "            loss,va2=sg3.evaluate(img_test,label_test)\n",
        "            AD3=delta_AD(va1,va2,MS1,MS2)\n",
        "            va_g3=va2\n",
        "            sg3.save(sg3_path)\n",
        "            break\n",
        "gc.collect()\n",
        "\n"
      ],
      "execution_count": null,
      "outputs": [
        {
          "output_type": "stream",
          "name": "stdout",
          "text": [
            "Super group 3 : AD =  6.365000009536743\n",
            "WARNING:tensorflow:Entity <bound method dwt_layer.call of <__main__.dwt_layer object at 0x7f7b185aee50>> could not be transformed and will be executed as-is. Please report this to the AutgoGraph team. When filing the bug, set the verbosity to 10 (on Linux, `export AUTOGRAPH_VERBOSITY=10`) and attach the full output. Cause: converting <bound method dwt_layer.call of <__main__.dwt_layer object at 0x7f7b185aee50>>: AssertionError: Bad argument number for Name: 3, expecting 4\n",
            "WARNING: Entity <bound method dwt_layer.call of <__main__.dwt_layer object at 0x7f7b185aee50>> could not be transformed and will be executed as-is. Please report this to the AutgoGraph team. When filing the bug, set the verbosity to 10 (on Linux, `export AUTOGRAPH_VERBOSITY=10`) and attach the full output. Cause: converting <bound method dwt_layer.call of <__main__.dwt_layer object at 0x7f7b185aee50>>: AssertionError: Bad argument number for Name: 3, expecting 4\n",
            "WARNING:tensorflow:Entity <bound method dwt_layer.call of <__main__.dwt_layer object at 0x7f7b185aee50>> could not be transformed and will be executed as-is. Please report this to the AutgoGraph team. When filing the bug, set the verbosity to 10 (on Linux, `export AUTOGRAPH_VERBOSITY=10`) and attach the full output. Cause: converting <bound method dwt_layer.call of <__main__.dwt_layer object at 0x7f7b185aee50>>: AssertionError: Bad argument number for Name: 3, expecting 4\n",
            "WARNING: Entity <bound method dwt_layer.call of <__main__.dwt_layer object at 0x7f7b185aee50>> could not be transformed and will be executed as-is. Please report this to the AutgoGraph team. When filing the bug, set the verbosity to 10 (on Linux, `export AUTOGRAPH_VERBOSITY=10`) and attach the full output. Cause: converting <bound method dwt_layer.call of <__main__.dwt_layer object at 0x7f7b185aee50>>: AssertionError: Bad argument number for Name: 3, expecting 4\n",
            "WARNING:tensorflow:Entity <bound method dwt_layer.call of <__main__.dwt_layer object at 0x7f7b17ddcc50>> could not be transformed and will be executed as-is. Please report this to the AutgoGraph team. When filing the bug, set the verbosity to 10 (on Linux, `export AUTOGRAPH_VERBOSITY=10`) and attach the full output. Cause: converting <bound method dwt_layer.call of <__main__.dwt_layer object at 0x7f7b17ddcc50>>: AssertionError: Bad argument number for Name: 3, expecting 4\n",
            "WARNING: Entity <bound method dwt_layer.call of <__main__.dwt_layer object at 0x7f7b17ddcc50>> could not be transformed and will be executed as-is. Please report this to the AutgoGraph team. When filing the bug, set the verbosity to 10 (on Linux, `export AUTOGRAPH_VERBOSITY=10`) and attach the full output. Cause: converting <bound method dwt_layer.call of <__main__.dwt_layer object at 0x7f7b17ddcc50>>: AssertionError: Bad argument number for Name: 3, expecting 4\n",
            "Epoch 1/15\n",
            "1562/1562 [==============================] - 132s 84ms/step - loss: 1.7649 - acc: 0.3570 - val_loss: 1.3092 - val_acc: 0.5298\n",
            "Epoch 2/15\n",
            "1562/1562 [==============================] - 126s 80ms/step - loss: 1.3857 - acc: 0.4976 - val_loss: 1.1582 - val_acc: 0.5864\n",
            "Epoch 3/15\n",
            "1562/1562 [==============================] - 117s 75ms/step - loss: 1.2552 - acc: 0.5487 - val_loss: 1.0932 - val_acc: 0.6165\n",
            "Epoch 4/15\n",
            "1562/1562 [==============================] - 113s 72ms/step - loss: 1.1840 - acc: 0.5763 - val_loss: 1.0098 - val_acc: 0.6482\n",
            "Epoch 5/15\n",
            "1562/1562 [==============================] - 122s 78ms/step - loss: 1.1196 - acc: 0.6010 - val_loss: 0.9660 - val_acc: 0.6596\n",
            "Epoch 6/15\n",
            "1562/1562 [==============================] - 126s 80ms/step - loss: 1.0798 - acc: 0.6139 - val_loss: 0.9389 - val_acc: 0.6744\n",
            "Epoch 7/15\n",
            "1562/1562 [==============================] - 123s 79ms/step - loss: 1.0451 - acc: 0.6272 - val_loss: 0.9429 - val_acc: 0.6719\n",
            "Epoch 8/15\n",
            "1562/1562 [==============================] - 126s 81ms/step - loss: 1.0183 - acc: 0.6344 - val_loss: 0.9158 - val_acc: 0.6804\n",
            "Epoch 9/15\n",
            "1562/1562 [==============================] - 121s 77ms/step - loss: 0.9948 - acc: 0.6437 - val_loss: 0.9171 - val_acc: 0.6830\n",
            "Epoch 10/15\n",
            "1562/1562 [==============================] - 120s 77ms/step - loss: 0.9756 - acc: 0.6527 - val_loss: 0.8513 - val_acc: 0.7036\n",
            "Epoch 11/15\n",
            "1562/1562 [==============================] - 132s 84ms/step - loss: 0.9510 - acc: 0.6642 - val_loss: 0.8292 - val_acc: 0.7128\n",
            "Epoch 12/15\n",
            "1562/1562 [==============================] - 126s 81ms/step - loss: 0.9325 - acc: 0.6683 - val_loss: 0.8688 - val_acc: 0.7042\n",
            "Epoch 13/15\n",
            "1562/1562 [==============================] - 128s 82ms/step - loss: 0.9150 - acc: 0.6762 - val_loss: 0.8292 - val_acc: 0.7185\n",
            "Epoch 14/15\n",
            "1562/1562 [==============================] - 117s 75ms/step - loss: 0.9010 - acc: 0.6787 - val_loss: 0.8080 - val_acc: 0.7226\n",
            "Epoch 15/15\n",
            "1562/1562 [==============================] - 114s 73ms/step - loss: 0.8881 - acc: 0.6838 - val_loss: 0.8128 - val_acc: 0.7203\n",
            "10000/10000 [==============================] - 6s 618us/sample - loss: 0.8124 - acc: 0.7203\n"
          ]
        }
      ]
    },
    {
      "cell_type": "markdown",
      "metadata": {
        "id": "FVTzWKxmTjGB"
      },
      "source": [
        "## Training Supergroup 1 "
      ]
    },
    {
      "cell_type": "code",
      "metadata": {
        "colab": {
          "base_uri": "https://localhost:8080/"
        },
        "id": "ENiHaIC_SHkj",
        "outputId": "b4e576a0-7433-434b-c2f1-1024009f2c02"
      },
      "source": [
        "\n",
        "for i in range(y):\n",
        "    if np.argmax(label_test[i]) in [2,3,4,5,7] : #g5--> horse\n",
        "            sg1_conv,sg1=sg1_mod(root_conv)\n",
        "            sg1.compile(loss='categorical_crossentropy', optimizer=sgd, metrics=['accuracy'])\n",
        "            sg1.fit_generator(augment_gen.flow(img_train, label_train),steps_per_epoch = len(img_train)//32,epochs=15, verbose=1,validation_data=(img_test,label_test))\n",
        "            loss,va2=sg1.evaluate(img_test,label_test)\n",
        "            sg1.save(sg1_path)\n",
        "            va_g1=va2\n",
        "            break\n",
        "\n"
      ],
      "execution_count": null,
      "outputs": [
        {
          "output_type": "stream",
          "name": "stdout",
          "text": [
            "WARNING:tensorflow:Entity <bound method dwt_layer.call of <__main__.dwt_layer object at 0x7f7afd12a990>> could not be transformed and will be executed as-is. Please report this to the AutgoGraph team. When filing the bug, set the verbosity to 10 (on Linux, `export AUTOGRAPH_VERBOSITY=10`) and attach the full output. Cause: converting <bound method dwt_layer.call of <__main__.dwt_layer object at 0x7f7afd12a990>>: AssertionError: Bad argument number for Name: 3, expecting 4\n",
            "WARNING: Entity <bound method dwt_layer.call of <__main__.dwt_layer object at 0x7f7afd12a990>> could not be transformed and will be executed as-is. Please report this to the AutgoGraph team. When filing the bug, set the verbosity to 10 (on Linux, `export AUTOGRAPH_VERBOSITY=10`) and attach the full output. Cause: converting <bound method dwt_layer.call of <__main__.dwt_layer object at 0x7f7afd12a990>>: AssertionError: Bad argument number for Name: 3, expecting 4\n",
            "WARNING:tensorflow:Entity <bound method dwt_layer.call of <__main__.dwt_layer object at 0x7f7afd12a990>> could not be transformed and will be executed as-is. Please report this to the AutgoGraph team. When filing the bug, set the verbosity to 10 (on Linux, `export AUTOGRAPH_VERBOSITY=10`) and attach the full output. Cause: converting <bound method dwt_layer.call of <__main__.dwt_layer object at 0x7f7afd12a990>>: AssertionError: Bad argument number for Name: 3, expecting 4\n",
            "WARNING: Entity <bound method dwt_layer.call of <__main__.dwt_layer object at 0x7f7afd12a990>> could not be transformed and will be executed as-is. Please report this to the AutgoGraph team. When filing the bug, set the verbosity to 10 (on Linux, `export AUTOGRAPH_VERBOSITY=10`) and attach the full output. Cause: converting <bound method dwt_layer.call of <__main__.dwt_layer object at 0x7f7afd12a990>>: AssertionError: Bad argument number for Name: 3, expecting 4\n",
            "WARNING:tensorflow:Entity <bound method dwt_layer.call of <__main__.dwt_layer object at 0x7f7afc7c2510>> could not be transformed and will be executed as-is. Please report this to the AutgoGraph team. When filing the bug, set the verbosity to 10 (on Linux, `export AUTOGRAPH_VERBOSITY=10`) and attach the full output. Cause: converting <bound method dwt_layer.call of <__main__.dwt_layer object at 0x7f7afc7c2510>>: AssertionError: Bad argument number for Name: 3, expecting 4\n",
            "WARNING: Entity <bound method dwt_layer.call of <__main__.dwt_layer object at 0x7f7afc7c2510>> could not be transformed and will be executed as-is. Please report this to the AutgoGraph team. When filing the bug, set the verbosity to 10 (on Linux, `export AUTOGRAPH_VERBOSITY=10`) and attach the full output. Cause: converting <bound method dwt_layer.call of <__main__.dwt_layer object at 0x7f7afc7c2510>>: AssertionError: Bad argument number for Name: 3, expecting 4\n",
            "Epoch 1/15\n",
            "1562/1562 [==============================] - 123s 79ms/step - loss: 0.8700 - acc: 0.6899 - val_loss: 0.7736 - val_acc: 0.7316\n",
            "Epoch 2/15\n",
            "1562/1562 [==============================] - 132s 85ms/step - loss: 0.8589 - acc: 0.6951 - val_loss: 0.7811 - val_acc: 0.7314\n",
            "Epoch 3/15\n",
            "1562/1562 [==============================] - 133s 85ms/step - loss: 0.8506 - acc: 0.6970 - val_loss: 0.7974 - val_acc: 0.7266\n",
            "Epoch 4/15\n",
            "1562/1562 [==============================] - 139s 89ms/step - loss: 0.8434 - acc: 0.7007 - val_loss: 0.7900 - val_acc: 0.7305\n",
            "Epoch 5/15\n",
            "1562/1562 [==============================] - 134s 86ms/step - loss: 0.8363 - acc: 0.7024 - val_loss: 0.7576 - val_acc: 0.7406\n",
            "Epoch 6/15\n",
            "1562/1562 [==============================] - 124s 80ms/step - loss: 0.8273 - acc: 0.7080 - val_loss: 0.7559 - val_acc: 0.7442\n",
            "Epoch 7/15\n",
            "1562/1562 [==============================] - 131s 84ms/step - loss: 0.8222 - acc: 0.7103 - val_loss: 0.7587 - val_acc: 0.7377\n",
            "Epoch 8/15\n",
            "1562/1562 [==============================] - 130s 83ms/step - loss: 0.8137 - acc: 0.7109 - val_loss: 0.7641 - val_acc: 0.7400\n",
            "Epoch 9/15\n",
            "1562/1562 [==============================] - 125s 80ms/step - loss: 0.8062 - acc: 0.7144 - val_loss: 0.7467 - val_acc: 0.7470\n",
            "Epoch 10/15\n",
            "1562/1562 [==============================] - 122s 78ms/step - loss: 0.8046 - acc: 0.7157 - val_loss: 0.7392 - val_acc: 0.7474\n",
            "Epoch 11/15\n",
            "1562/1562 [==============================] - 135s 86ms/step - loss: 0.7979 - acc: 0.7178 - val_loss: 0.7385 - val_acc: 0.7460\n",
            "Epoch 12/15\n",
            "1562/1562 [==============================] - 146s 94ms/step - loss: 0.7888 - acc: 0.7208 - val_loss: 0.7277 - val_acc: 0.7494\n",
            "Epoch 13/15\n",
            "1562/1562 [==============================] - 133s 85ms/step - loss: 0.7856 - acc: 0.7228 - val_loss: 0.7363 - val_acc: 0.7511\n",
            "Epoch 14/15\n",
            "1562/1562 [==============================] - 131s 84ms/step - loss: 0.7766 - acc: 0.7245 - val_loss: 0.7102 - val_acc: 0.7572\n",
            "Epoch 15/15\n",
            "1562/1562 [==============================] - 128s 82ms/step - loss: 0.7755 - acc: 0.7250 - val_loss: 0.7276 - val_acc: 0.7506\n",
            "10000/10000 [==============================] - 7s 653us/sample - loss: 2.3471 - acc: 0.0987\n"
          ]
        }
      ]
    },
    {
      "cell_type": "code",
      "metadata": {
        "colab": {
          "base_uri": "https://localhost:8080/"
        },
        "id": "FAq5xrBLPNfT",
        "outputId": "f5e07039-c546-453a-d9b7-1fe7bd06fd9b"
      },
      "source": [
        "sg1.save(sg1_path)\n",
        "loss,va2=sg1.evaluate(img_test,label_test)\n",
        "\n",
        "va_g1=va2\n"
      ],
      "execution_count": null,
      "outputs": [
        {
          "output_type": "stream",
          "name": "stdout",
          "text": [
            "10000/10000 [==============================] - 6s 609us/sample - loss: 0.7271 - acc: 0.7506\n"
          ]
        }
      ]
    },
    {
      "cell_type": "markdown",
      "metadata": {
        "id": "lpiyMRYTpHVn"
      },
      "source": [
        "Training Supergroup 4"
      ]
    },
    {
      "cell_type": "code",
      "metadata": {
        "colab": {
          "base_uri": "https://localhost:8080/"
        },
        "id": "qX3px0wjLLgf",
        "outputId": "802e8141-627a-4f92-d221-69c9d7f60958"
      },
      "source": [
        "sg1_conv,sg1=sg1_mod(root_conv)\n",
        "for i in range(y):\n",
        "    if np.argmax(label_test[i]) in [3,5] : #g5--> horse\n",
        "                sg4=sg4_mod(sg1_conv)\n",
        "                sg4.compile(loss='categorical_crossentropy', optimizer=sgd, metrics=['accuracy'])\n",
        "                sg4.fit_generator(augment_gen.flow(img_train, label_train),steps_per_epoch = len(img_train)//32,epochs=15, verbose=1,validation_data=(img_test,label_test))\n",
        "                loss,va2=sg4.evaluate(img_test,label_test)\n",
        "                sg4.save(sg4_path)\n",
        "                va_g4=va2\n",
        "                break\n",
        "                \n",
        "                \n"
      ],
      "execution_count": null,
      "outputs": [
        {
          "output_type": "stream",
          "name": "stdout",
          "text": [
            "WARNING:tensorflow:Entity <bound method dwt_layer.call of <__main__.dwt_layer object at 0x7f1a9fda39d0>> could not be transformed and will be executed as-is. Please report this to the AutgoGraph team. When filing the bug, set the verbosity to 10 (on Linux, `export AUTOGRAPH_VERBOSITY=10`) and attach the full output. Cause: converting <bound method dwt_layer.call of <__main__.dwt_layer object at 0x7f1a9fda39d0>>: AssertionError: Bad argument number for Name: 3, expecting 4\n",
            "WARNING: Entity <bound method dwt_layer.call of <__main__.dwt_layer object at 0x7f1a9fda39d0>> could not be transformed and will be executed as-is. Please report this to the AutgoGraph team. When filing the bug, set the verbosity to 10 (on Linux, `export AUTOGRAPH_VERBOSITY=10`) and attach the full output. Cause: converting <bound method dwt_layer.call of <__main__.dwt_layer object at 0x7f1a9fda39d0>>: AssertionError: Bad argument number for Name: 3, expecting 4\n",
            "WARNING:tensorflow:Entity <bound method dwt_layer.call of <__main__.dwt_layer object at 0x7f1a9fda39d0>> could not be transformed and will be executed as-is. Please report this to the AutgoGraph team. When filing the bug, set the verbosity to 10 (on Linux, `export AUTOGRAPH_VERBOSITY=10`) and attach the full output. Cause: converting <bound method dwt_layer.call of <__main__.dwt_layer object at 0x7f1a9fda39d0>>: AssertionError: Bad argument number for Name: 3, expecting 4\n",
            "WARNING: Entity <bound method dwt_layer.call of <__main__.dwt_layer object at 0x7f1a9fda39d0>> could not be transformed and will be executed as-is. Please report this to the AutgoGraph team. When filing the bug, set the verbosity to 10 (on Linux, `export AUTOGRAPH_VERBOSITY=10`) and attach the full output. Cause: converting <bound method dwt_layer.call of <__main__.dwt_layer object at 0x7f1a9fda39d0>>: AssertionError: Bad argument number for Name: 3, expecting 4\n",
            "WARNING:tensorflow:Entity <bound method dwt_layer.call of <__main__.dwt_layer object at 0x7f1a2428c8d0>> could not be transformed and will be executed as-is. Please report this to the AutgoGraph team. When filing the bug, set the verbosity to 10 (on Linux, `export AUTOGRAPH_VERBOSITY=10`) and attach the full output. Cause: converting <bound method dwt_layer.call of <__main__.dwt_layer object at 0x7f1a2428c8d0>>: AssertionError: Bad argument number for Name: 3, expecting 4\n",
            "WARNING: Entity <bound method dwt_layer.call of <__main__.dwt_layer object at 0x7f1a2428c8d0>> could not be transformed and will be executed as-is. Please report this to the AutgoGraph team. When filing the bug, set the verbosity to 10 (on Linux, `export AUTOGRAPH_VERBOSITY=10`) and attach the full output. Cause: converting <bound method dwt_layer.call of <__main__.dwt_layer object at 0x7f1a2428c8d0>>: AssertionError: Bad argument number for Name: 3, expecting 4\n",
            "WARNING:tensorflow:Entity <bound method dwt_layer.call of <__main__.dwt_layer object at 0x7f1a9fda39d0>> could not be transformed and will be executed as-is. Please report this to the AutgoGraph team. When filing the bug, set the verbosity to 10 (on Linux, `export AUTOGRAPH_VERBOSITY=10`) and attach the full output. Cause: converting <bound method dwt_layer.call of <__main__.dwt_layer object at 0x7f1a9fda39d0>>: AssertionError: Bad argument number for Name: 3, expecting 4\n",
            "WARNING: Entity <bound method dwt_layer.call of <__main__.dwt_layer object at 0x7f1a9fda39d0>> could not be transformed and will be executed as-is. Please report this to the AutgoGraph team. When filing the bug, set the verbosity to 10 (on Linux, `export AUTOGRAPH_VERBOSITY=10`) and attach the full output. Cause: converting <bound method dwt_layer.call of <__main__.dwt_layer object at 0x7f1a9fda39d0>>: AssertionError: Bad argument number for Name: 3, expecting 4\n",
            "WARNING:tensorflow:Entity <bound method dwt_layer.call of <__main__.dwt_layer object at 0x7f1a9fda39d0>> could not be transformed and will be executed as-is. Please report this to the AutgoGraph team. When filing the bug, set the verbosity to 10 (on Linux, `export AUTOGRAPH_VERBOSITY=10`) and attach the full output. Cause: converting <bound method dwt_layer.call of <__main__.dwt_layer object at 0x7f1a9fda39d0>>: AssertionError: Bad argument number for Name: 3, expecting 4\n",
            "WARNING: Entity <bound method dwt_layer.call of <__main__.dwt_layer object at 0x7f1a9fda39d0>> could not be transformed and will be executed as-is. Please report this to the AutgoGraph team. When filing the bug, set the verbosity to 10 (on Linux, `export AUTOGRAPH_VERBOSITY=10`) and attach the full output. Cause: converting <bound method dwt_layer.call of <__main__.dwt_layer object at 0x7f1a9fda39d0>>: AssertionError: Bad argument number for Name: 3, expecting 4\n",
            "Epoch 1/15\n",
            "1562/1562 [==============================] - 178s 114ms/step - loss: 1.6435 - acc: 0.3923 - val_loss: 1.2519 - val_acc: 0.5432\n",
            "Epoch 2/15\n",
            "1562/1562 [==============================] - 188s 120ms/step - loss: 1.2475 - acc: 0.5473 - val_loss: 1.0378 - val_acc: 0.6258\n",
            "Epoch 3/15\n",
            "1562/1562 [==============================] - 203s 130ms/step - loss: 1.0787 - acc: 0.6157 - val_loss: 1.0526 - val_acc: 0.6419\n",
            "Epoch 4/15\n",
            "1562/1562 [==============================] - 212s 136ms/step - loss: 0.9627 - acc: 0.6588 - val_loss: 0.8479 - val_acc: 0.7017\n",
            "Epoch 5/15\n",
            "1562/1562 [==============================] - 229s 147ms/step - loss: 0.8902 - acc: 0.6851 - val_loss: 0.7893 - val_acc: 0.7267\n",
            "Epoch 6/15\n",
            "1562/1562 [==============================] - 230s 147ms/step - loss: 0.8226 - acc: 0.7087 - val_loss: 0.7558 - val_acc: 0.7393\n",
            "Epoch 7/15\n",
            "1562/1562 [==============================] - 197s 126ms/step - loss: 0.7809 - acc: 0.7263 - val_loss: 0.6888 - val_acc: 0.7654\n",
            "Epoch 8/15\n",
            "1562/1562 [==============================] - 208s 133ms/step - loss: 0.7447 - acc: 0.7358 - val_loss: 0.6700 - val_acc: 0.7689\n",
            "Epoch 9/15\n",
            "1562/1562 [==============================] - 207s 133ms/step - loss: 0.7111 - acc: 0.7524 - val_loss: 0.6597 - val_acc: 0.7753\n",
            "Epoch 10/15\n",
            "1562/1562 [==============================] - 180s 115ms/step - loss: 0.6824 - acc: 0.7581 - val_loss: 0.6699 - val_acc: 0.7727\n",
            "Epoch 11/15\n",
            "1562/1562 [==============================] - 177s 113ms/step - loss: 0.6584 - acc: 0.7678 - val_loss: 0.6246 - val_acc: 0.7881\n",
            "Epoch 12/15\n",
            "1562/1562 [==============================] - 187s 120ms/step - loss: 0.6314 - acc: 0.7776 - val_loss: 0.6038 - val_acc: 0.7956\n",
            "Epoch 13/15\n",
            "1562/1562 [==============================] - 184s 118ms/step - loss: 0.6172 - acc: 0.7815 - val_loss: 0.6096 - val_acc: 0.7949\n",
            "Epoch 14/15\n",
            "1562/1562 [==============================] - 177s 113ms/step - loss: 0.5955 - acc: 0.7897 - val_loss: 0.5824 - val_acc: 0.8051\n",
            "Epoch 15/15\n",
            "1562/1562 [==============================] - 193s 124ms/step - loss: 0.5784 - acc: 0.7944 - val_loss: 0.5794 - val_acc: 0.8061\n",
            "10000/10000 [==============================] - 8s 797us/sample - loss: 0.5790 - acc: 0.8061\n"
          ]
        }
      ]
    },
    {
      "cell_type": "markdown",
      "metadata": {
        "id": "Pd3Y_k45TjGB"
      },
      "source": [
        "## Training Supergroup 5"
      ]
    },
    {
      "cell_type": "code",
      "metadata": {
        "colab": {
          "base_uri": "https://localhost:8080/"
        },
        "id": "3V6NgkMlTjGB",
        "outputId": "9dc41493-bc19-440e-fd20-569aa0a8f7da"
      },
      "source": [
        "\n",
        "for i in range(y):\n",
        "    if np.argmax(label_test[i]) in [2,3,4,5,7] : #g5--> horse\n",
        "            if (np.argmax(label_test[i]) in  [2,4]): \n",
        "                sg5=sg5_mod(sg1_conv)\n",
        "                sg5.compile(loss='categorical_crossentropy', optimizer=sgd, metrics=['accuracy'])\n",
        "                sg5.fit_generator(augment_gen.flow(img_train, label_train),steps_per_epoch = len(img_train)//32,epochs=15, verbose=1,validation_data=(img_test,label_test))\n",
        "                loss,va2=sg5.evaluate(img_test,label_test)\n",
        "                sg5.save(sg5_path)\n",
        "                va_g5=va2\n",
        "                break\n",
        "        \n"
      ],
      "execution_count": null,
      "outputs": [
        {
          "output_type": "stream",
          "name": "stdout",
          "text": [
            "WARNING:tensorflow:Entity <bound method dwt_layer.call of <__main__.dwt_layer object at 0x7f1a9fda39d0>> could not be transformed and will be executed as-is. Please report this to the AutgoGraph team. When filing the bug, set the verbosity to 10 (on Linux, `export AUTOGRAPH_VERBOSITY=10`) and attach the full output. Cause: converting <bound method dwt_layer.call of <__main__.dwt_layer object at 0x7f1a9fda39d0>>: AssertionError: Bad argument number for Name: 3, expecting 4\n",
            "WARNING: Entity <bound method dwt_layer.call of <__main__.dwt_layer object at 0x7f1a9fda39d0>> could not be transformed and will be executed as-is. Please report this to the AutgoGraph team. When filing the bug, set the verbosity to 10 (on Linux, `export AUTOGRAPH_VERBOSITY=10`) and attach the full output. Cause: converting <bound method dwt_layer.call of <__main__.dwt_layer object at 0x7f1a9fda39d0>>: AssertionError: Bad argument number for Name: 3, expecting 4\n",
            "WARNING:tensorflow:Entity <bound method dwt_layer.call of <__main__.dwt_layer object at 0x7f1a1e271f50>> could not be transformed and will be executed as-is. Please report this to the AutgoGraph team. When filing the bug, set the verbosity to 10 (on Linux, `export AUTOGRAPH_VERBOSITY=10`) and attach the full output. Cause: converting <bound method dwt_layer.call of <__main__.dwt_layer object at 0x7f1a1e271f50>>: AssertionError: Bad argument number for Name: 3, expecting 4\n",
            "WARNING: Entity <bound method dwt_layer.call of <__main__.dwt_layer object at 0x7f1a1e271f50>> could not be transformed and will be executed as-is. Please report this to the AutgoGraph team. When filing the bug, set the verbosity to 10 (on Linux, `export AUTOGRAPH_VERBOSITY=10`) and attach the full output. Cause: converting <bound method dwt_layer.call of <__main__.dwt_layer object at 0x7f1a1e271f50>>: AssertionError: Bad argument number for Name: 3, expecting 4\n",
            "WARNING:tensorflow:Entity <bound method dwt_layer.call of <__main__.dwt_layer object at 0x7f1a9fda39d0>> could not be transformed and will be executed as-is. Please report this to the AutgoGraph team. When filing the bug, set the verbosity to 10 (on Linux, `export AUTOGRAPH_VERBOSITY=10`) and attach the full output. Cause: converting <bound method dwt_layer.call of <__main__.dwt_layer object at 0x7f1a9fda39d0>>: AssertionError: Bad argument number for Name: 3, expecting 4\n",
            "WARNING: Entity <bound method dwt_layer.call of <__main__.dwt_layer object at 0x7f1a9fda39d0>> could not be transformed and will be executed as-is. Please report this to the AutgoGraph team. When filing the bug, set the verbosity to 10 (on Linux, `export AUTOGRAPH_VERBOSITY=10`) and attach the full output. Cause: converting <bound method dwt_layer.call of <__main__.dwt_layer object at 0x7f1a9fda39d0>>: AssertionError: Bad argument number for Name: 3, expecting 4\n",
            "WARNING:tensorflow:Entity <bound method dwt_layer.call of <__main__.dwt_layer object at 0x7f1a1e271f50>> could not be transformed and will be executed as-is. Please report this to the AutgoGraph team. When filing the bug, set the verbosity to 10 (on Linux, `export AUTOGRAPH_VERBOSITY=10`) and attach the full output. Cause: converting <bound method dwt_layer.call of <__main__.dwt_layer object at 0x7f1a1e271f50>>: AssertionError: Bad argument number for Name: 3, expecting 4\n",
            "WARNING: Entity <bound method dwt_layer.call of <__main__.dwt_layer object at 0x7f1a1e271f50>> could not be transformed and will be executed as-is. Please report this to the AutgoGraph team. When filing the bug, set the verbosity to 10 (on Linux, `export AUTOGRAPH_VERBOSITY=10`) and attach the full output. Cause: converting <bound method dwt_layer.call of <__main__.dwt_layer object at 0x7f1a1e271f50>>: AssertionError: Bad argument number for Name: 3, expecting 4\n",
            "WARNING:tensorflow:Entity <bound method dwt_layer.call of <__main__.dwt_layer object at 0x7f1a237c0b50>> could not be transformed and will be executed as-is. Please report this to the AutgoGraph team. When filing the bug, set the verbosity to 10 (on Linux, `export AUTOGRAPH_VERBOSITY=10`) and attach the full output. Cause: converting <bound method dwt_layer.call of <__main__.dwt_layer object at 0x7f1a237c0b50>>: AssertionError: Bad argument number for Name: 3, expecting 4\n",
            "WARNING: Entity <bound method dwt_layer.call of <__main__.dwt_layer object at 0x7f1a237c0b50>> could not be transformed and will be executed as-is. Please report this to the AutgoGraph team. When filing the bug, set the verbosity to 10 (on Linux, `export AUTOGRAPH_VERBOSITY=10`) and attach the full output. Cause: converting <bound method dwt_layer.call of <__main__.dwt_layer object at 0x7f1a237c0b50>>: AssertionError: Bad argument number for Name: 3, expecting 4\n",
            "Epoch 1/15\n",
            "1562/1562 [==============================] - 135s 87ms/step - loss: 1.3315 - acc: 0.5235 - val_loss: 0.9567 - val_acc: 0.6623\n",
            "Epoch 2/15\n",
            "1562/1562 [==============================] - 137s 87ms/step - loss: 1.0234 - acc: 0.6354 - val_loss: 0.8430 - val_acc: 0.7078\n",
            "Epoch 3/15\n",
            "1562/1562 [==============================] - 139s 89ms/step - loss: 0.9312 - acc: 0.6723 - val_loss: 0.8574 - val_acc: 0.7042\n",
            "Epoch 4/15\n",
            "1562/1562 [==============================] - 135s 87ms/step - loss: 0.8723 - acc: 0.6941 - val_loss: 0.7976 - val_acc: 0.7228\n",
            "Epoch 5/15\n",
            "1562/1562 [==============================] - 134s 86ms/step - loss: 0.8414 - acc: 0.7055 - val_loss: 0.7596 - val_acc: 0.7381\n",
            "Epoch 6/15\n",
            "1562/1562 [==============================] - 136s 87ms/step - loss: 0.8062 - acc: 0.7154 - val_loss: 0.7060 - val_acc: 0.7574\n",
            "Epoch 7/15\n",
            "1562/1562 [==============================] - 133s 85ms/step - loss: 0.7768 - acc: 0.7266 - val_loss: 0.7012 - val_acc: 0.7604\n",
            "Epoch 8/15\n",
            "1562/1562 [==============================] - 139s 89ms/step - loss: 0.7566 - acc: 0.7364 - val_loss: 0.6880 - val_acc: 0.7620\n",
            "Epoch 9/15\n",
            "1562/1562 [==============================] - 136s 87ms/step - loss: 0.7379 - acc: 0.7412 - val_loss: 0.6936 - val_acc: 0.7611\n",
            "Epoch 10/15\n",
            "1562/1562 [==============================] - 132s 85ms/step - loss: 0.7253 - acc: 0.7443 - val_loss: 0.6927 - val_acc: 0.7634\n",
            "Epoch 11/15\n",
            "1562/1562 [==============================] - 139s 89ms/step - loss: 0.7109 - acc: 0.7494 - val_loss: 0.6428 - val_acc: 0.7761\n",
            "Epoch 12/15\n",
            "1562/1562 [==============================] - 144s 92ms/step - loss: 0.6932 - acc: 0.7551 - val_loss: 0.6543 - val_acc: 0.7757\n",
            "Epoch 13/15\n",
            "1562/1562 [==============================] - 135s 86ms/step - loss: 0.6776 - acc: 0.7624 - val_loss: 0.6123 - val_acc: 0.7914\n",
            "Epoch 14/15\n",
            "1562/1562 [==============================] - 132s 85ms/step - loss: 0.6647 - acc: 0.7663 - val_loss: 0.6582 - val_acc: 0.7769\n",
            "Epoch 15/15\n",
            "1562/1562 [==============================] - 147s 94ms/step - loss: 0.6470 - acc: 0.7719 - val_loss: 0.6347 - val_acc: 0.7873\n",
            "10000/10000 [==============================] - 7s 684us/sample - loss: 0.6339 - acc: 0.7873\n"
          ]
        }
      ]
    },
    {
      "cell_type": "code",
      "metadata": {
        "id": "bOwdnTaN46Je"
      },
      "source": [
        "sg5_path=\"/content/drive/MyDrive/01_Colab_MNN/sg5_DWT_new.h5py\"\n",
        "sg5.save(sg5_path)"
      ],
      "execution_count": null,
      "outputs": []
    },
    {
      "cell_type": "markdown",
      "metadata": {
        "id": "DUQ71wl85asi"
      },
      "source": [
        "# loading from saved weights and checking accuracy"
      ]
    },
    {
      "cell_type": "code",
      "metadata": {
        "colab": {
          "base_uri": "https://localhost:8080/"
        },
        "id": "Wq3DL0BV5M3j",
        "outputId": "5a8956a6-4af2-4227-bc94-456f08fb2273"
      },
      "source": [
        "va_list=[]\n",
        "path=\"/content/drive/MyDrive/01_Colab_MNN/\"\n",
        "file_list=[]\n",
        "for i in range(6):\n",
        "  file_name='sg'+str(i)+'.h5'\n",
        "  file_path=str(path+file_name)\n",
        "  file = tf.keras.models.load_model(file_path, custom_objects={'dwt_layer':  dwt_layer})\n",
        "  loss,va= file.evaluate(img_test,label_test,8)\n",
        "  va_list.append(va)\n",
        "  file_list.append(str(file_name))\n",
        "  print('\\n',str(file_name),' ',va)\n",
        "  "
      ],
      "execution_count": null,
      "outputs": [
        {
          "output_type": "stream",
          "name": "stdout",
          "text": [
            "WARNING:tensorflow:Entity <bound method dwt_layer.call of <__main__.dwt_layer object at 0x7f1a0fa39ed0>> could not be transformed and will be executed as-is. Please report this to the AutgoGraph team. When filing the bug, set the verbosity to 10 (on Linux, `export AUTOGRAPH_VERBOSITY=10`) and attach the full output. Cause: converting <bound method dwt_layer.call of <__main__.dwt_layer object at 0x7f1a0fa39ed0>>: AssertionError: Bad argument number for Name: 3, expecting 4\n",
            "WARNING: Entity <bound method dwt_layer.call of <__main__.dwt_layer object at 0x7f1a0fa39ed0>> could not be transformed and will be executed as-is. Please report this to the AutgoGraph team. When filing the bug, set the verbosity to 10 (on Linux, `export AUTOGRAPH_VERBOSITY=10`) and attach the full output. Cause: converting <bound method dwt_layer.call of <__main__.dwt_layer object at 0x7f1a0fa39ed0>>: AssertionError: Bad argument number for Name: 3, expecting 4\n",
            "WARNING:tensorflow:Entity <bound method dwt_layer.call of <__main__.dwt_layer object at 0x7f1a0f88ca90>> could not be transformed and will be executed as-is. Please report this to the AutgoGraph team. When filing the bug, set the verbosity to 10 (on Linux, `export AUTOGRAPH_VERBOSITY=10`) and attach the full output. Cause: converting <bound method dwt_layer.call of <__main__.dwt_layer object at 0x7f1a0f88ca90>>: AssertionError: Bad argument number for Name: 3, expecting 4\n",
            "WARNING: Entity <bound method dwt_layer.call of <__main__.dwt_layer object at 0x7f1a0f88ca90>> could not be transformed and will be executed as-is. Please report this to the AutgoGraph team. When filing the bug, set the verbosity to 10 (on Linux, `export AUTOGRAPH_VERBOSITY=10`) and attach the full output. Cause: converting <bound method dwt_layer.call of <__main__.dwt_layer object at 0x7f1a0f88ca90>>: AssertionError: Bad argument number for Name: 3, expecting 4\n",
            "WARNING:tensorflow:Entity <bound method dwt_layer.call of <__main__.dwt_layer object at 0x7f1a0fa39ed0>> could not be transformed and will be executed as-is. Please report this to the AutgoGraph team. When filing the bug, set the verbosity to 10 (on Linux, `export AUTOGRAPH_VERBOSITY=10`) and attach the full output. Cause: converting <bound method dwt_layer.call of <__main__.dwt_layer object at 0x7f1a0fa39ed0>>: AssertionError: Bad argument number for Name: 3, expecting 4\n",
            "WARNING: Entity <bound method dwt_layer.call of <__main__.dwt_layer object at 0x7f1a0fa39ed0>> could not be transformed and will be executed as-is. Please report this to the AutgoGraph team. When filing the bug, set the verbosity to 10 (on Linux, `export AUTOGRAPH_VERBOSITY=10`) and attach the full output. Cause: converting <bound method dwt_layer.call of <__main__.dwt_layer object at 0x7f1a0fa39ed0>>: AssertionError: Bad argument number for Name: 3, expecting 4\n",
            "WARNING:tensorflow:Entity <bound method dwt_layer.call of <__main__.dwt_layer object at 0x7f1a0f88ca90>> could not be transformed and will be executed as-is. Please report this to the AutgoGraph team. When filing the bug, set the verbosity to 10 (on Linux, `export AUTOGRAPH_VERBOSITY=10`) and attach the full output. Cause: converting <bound method dwt_layer.call of <__main__.dwt_layer object at 0x7f1a0f88ca90>>: AssertionError: Bad argument number for Name: 3, expecting 4\n",
            "WARNING: Entity <bound method dwt_layer.call of <__main__.dwt_layer object at 0x7f1a0f88ca90>> could not be transformed and will be executed as-is. Please report this to the AutgoGraph team. When filing the bug, set the verbosity to 10 (on Linux, `export AUTOGRAPH_VERBOSITY=10`) and attach the full output. Cause: converting <bound method dwt_layer.call of <__main__.dwt_layer object at 0x7f1a0f88ca90>>: AssertionError: Bad argument number for Name: 3, expecting 4\n",
            "10000/10000 [==============================] - 14s 1ms/sample - loss: 0.8699 - acc: 0.7608\n",
            "\n",
            " sg0.h5   0.7608\n",
            "WARNING:tensorflow:Entity <bound method dwt_layer.call of <__main__.dwt_layer object at 0x7f1a0ed75c10>> could not be transformed and will be executed as-is. Please report this to the AutgoGraph team. When filing the bug, set the verbosity to 10 (on Linux, `export AUTOGRAPH_VERBOSITY=10`) and attach the full output. Cause: converting <bound method dwt_layer.call of <__main__.dwt_layer object at 0x7f1a0ed75c10>>: AssertionError: Bad argument number for Name: 3, expecting 4\n",
            "WARNING: Entity <bound method dwt_layer.call of <__main__.dwt_layer object at 0x7f1a0ed75c10>> could not be transformed and will be executed as-is. Please report this to the AutgoGraph team. When filing the bug, set the verbosity to 10 (on Linux, `export AUTOGRAPH_VERBOSITY=10`) and attach the full output. Cause: converting <bound method dwt_layer.call of <__main__.dwt_layer object at 0x7f1a0ed75c10>>: AssertionError: Bad argument number for Name: 3, expecting 4\n",
            "WARNING:tensorflow:Entity <bound method dwt_layer.call of <__main__.dwt_layer object at 0x7f1a0ed75c10>> could not be transformed and will be executed as-is. Please report this to the AutgoGraph team. When filing the bug, set the verbosity to 10 (on Linux, `export AUTOGRAPH_VERBOSITY=10`) and attach the full output. Cause: converting <bound method dwt_layer.call of <__main__.dwt_layer object at 0x7f1a0ed75c10>>: AssertionError: Bad argument number for Name: 3, expecting 4\n",
            "WARNING: Entity <bound method dwt_layer.call of <__main__.dwt_layer object at 0x7f1a0ed75c10>> could not be transformed and will be executed as-is. Please report this to the AutgoGraph team. When filing the bug, set the verbosity to 10 (on Linux, `export AUTOGRAPH_VERBOSITY=10`) and attach the full output. Cause: converting <bound method dwt_layer.call of <__main__.dwt_layer object at 0x7f1a0ed75c10>>: AssertionError: Bad argument number for Name: 3, expecting 4\n",
            "WARNING:tensorflow:Entity <bound method dwt_layer.call of <__main__.dwt_layer object at 0x7f1a0ec49dd0>> could not be transformed and will be executed as-is. Please report this to the AutgoGraph team. When filing the bug, set the verbosity to 10 (on Linux, `export AUTOGRAPH_VERBOSITY=10`) and attach the full output. Cause: converting <bound method dwt_layer.call of <__main__.dwt_layer object at 0x7f1a0ec49dd0>>: AssertionError: Bad argument number for Name: 3, expecting 4\n",
            "WARNING: Entity <bound method dwt_layer.call of <__main__.dwt_layer object at 0x7f1a0ec49dd0>> could not be transformed and will be executed as-is. Please report this to the AutgoGraph team. When filing the bug, set the verbosity to 10 (on Linux, `export AUTOGRAPH_VERBOSITY=10`) and attach the full output. Cause: converting <bound method dwt_layer.call of <__main__.dwt_layer object at 0x7f1a0ec49dd0>>: AssertionError: Bad argument number for Name: 3, expecting 4\n",
            "WARNING:tensorflow:Error in loading the saved optimizer state. As a result, your model is starting with a freshly initialized optimizer.\n",
            "10000/10000 [==============================] - 16s 2ms/sample - loss: 0.7271 - acc: 0.7506\n",
            "\n",
            " sg1.h5   0.7506\n",
            "WARNING:tensorflow:Entity <bound method dwt_layer.call of <__main__.dwt_layer object at 0x7f1a0e0dad10>> could not be transformed and will be executed as-is. Please report this to the AutgoGraph team. When filing the bug, set the verbosity to 10 (on Linux, `export AUTOGRAPH_VERBOSITY=10`) and attach the full output. Cause: converting <bound method dwt_layer.call of <__main__.dwt_layer object at 0x7f1a0e0dad10>>: AssertionError: Bad argument number for Name: 3, expecting 4\n",
            "WARNING: Entity <bound method dwt_layer.call of <__main__.dwt_layer object at 0x7f1a0e0dad10>> could not be transformed and will be executed as-is. Please report this to the AutgoGraph team. When filing the bug, set the verbosity to 10 (on Linux, `export AUTOGRAPH_VERBOSITY=10`) and attach the full output. Cause: converting <bound method dwt_layer.call of <__main__.dwt_layer object at 0x7f1a0e0dad10>>: AssertionError: Bad argument number for Name: 3, expecting 4\n",
            "WARNING:tensorflow:Entity <bound method dwt_layer.call of <__main__.dwt_layer object at 0x7f1a0e0dad10>> could not be transformed and will be executed as-is. Please report this to the AutgoGraph team. When filing the bug, set the verbosity to 10 (on Linux, `export AUTOGRAPH_VERBOSITY=10`) and attach the full output. Cause: converting <bound method dwt_layer.call of <__main__.dwt_layer object at 0x7f1a0e0dad10>>: AssertionError: Bad argument number for Name: 3, expecting 4\n",
            "WARNING: Entity <bound method dwt_layer.call of <__main__.dwt_layer object at 0x7f1a0e0dad10>> could not be transformed and will be executed as-is. Please report this to the AutgoGraph team. When filing the bug, set the verbosity to 10 (on Linux, `export AUTOGRAPH_VERBOSITY=10`) and attach the full output. Cause: converting <bound method dwt_layer.call of <__main__.dwt_layer object at 0x7f1a0e0dad10>>: AssertionError: Bad argument number for Name: 3, expecting 4\n",
            "WARNING:tensorflow:Entity <bound method dwt_layer.call of <__main__.dwt_layer object at 0x7f1a0dfaf050>> could not be transformed and will be executed as-is. Please report this to the AutgoGraph team. When filing the bug, set the verbosity to 10 (on Linux, `export AUTOGRAPH_VERBOSITY=10`) and attach the full output. Cause: converting <bound method dwt_layer.call of <__main__.dwt_layer object at 0x7f1a0dfaf050>>: AssertionError: Bad argument number for Name: 3, expecting 4\n",
            "WARNING: Entity <bound method dwt_layer.call of <__main__.dwt_layer object at 0x7f1a0dfaf050>> could not be transformed and will be executed as-is. Please report this to the AutgoGraph team. When filing the bug, set the verbosity to 10 (on Linux, `export AUTOGRAPH_VERBOSITY=10`) and attach the full output. Cause: converting <bound method dwt_layer.call of <__main__.dwt_layer object at 0x7f1a0dfaf050>>: AssertionError: Bad argument number for Name: 3, expecting 4\n",
            "WARNING:tensorflow:Error in loading the saved optimizer state. As a result, your model is starting with a freshly initialized optimizer.\n",
            "10000/10000 [==============================] - 17s 2ms/sample - loss: 0.7449 - acc: 0.7398\n",
            "\n",
            " sg2.h5   0.7398\n",
            "WARNING:tensorflow:Entity <bound method dwt_layer.call of <__main__.dwt_layer object at 0x7f1a0d4c56d0>> could not be transformed and will be executed as-is. Please report this to the AutgoGraph team. When filing the bug, set the verbosity to 10 (on Linux, `export AUTOGRAPH_VERBOSITY=10`) and attach the full output. Cause: converting <bound method dwt_layer.call of <__main__.dwt_layer object at 0x7f1a0d4c56d0>>: AssertionError: Bad argument number for Name: 3, expecting 4\n",
            "WARNING: Entity <bound method dwt_layer.call of <__main__.dwt_layer object at 0x7f1a0d4c56d0>> could not be transformed and will be executed as-is. Please report this to the AutgoGraph team. When filing the bug, set the verbosity to 10 (on Linux, `export AUTOGRAPH_VERBOSITY=10`) and attach the full output. Cause: converting <bound method dwt_layer.call of <__main__.dwt_layer object at 0x7f1a0d4c56d0>>: AssertionError: Bad argument number for Name: 3, expecting 4\n",
            "WARNING:tensorflow:Entity <bound method dwt_layer.call of <__main__.dwt_layer object at 0x7f1a0d4c56d0>> could not be transformed and will be executed as-is. Please report this to the AutgoGraph team. When filing the bug, set the verbosity to 10 (on Linux, `export AUTOGRAPH_VERBOSITY=10`) and attach the full output. Cause: converting <bound method dwt_layer.call of <__main__.dwt_layer object at 0x7f1a0d4c56d0>>: AssertionError: Bad argument number for Name: 3, expecting 4\n",
            "WARNING: Entity <bound method dwt_layer.call of <__main__.dwt_layer object at 0x7f1a0d4c56d0>> could not be transformed and will be executed as-is. Please report this to the AutgoGraph team. When filing the bug, set the verbosity to 10 (on Linux, `export AUTOGRAPH_VERBOSITY=10`) and attach the full output. Cause: converting <bound method dwt_layer.call of <__main__.dwt_layer object at 0x7f1a0d4c56d0>>: AssertionError: Bad argument number for Name: 3, expecting 4\n",
            "WARNING:tensorflow:Entity <bound method dwt_layer.call of <__main__.dwt_layer object at 0x7f1a0d389f10>> could not be transformed and will be executed as-is. Please report this to the AutgoGraph team. When filing the bug, set the verbosity to 10 (on Linux, `export AUTOGRAPH_VERBOSITY=10`) and attach the full output. Cause: converting <bound method dwt_layer.call of <__main__.dwt_layer object at 0x7f1a0d389f10>>: AssertionError: Bad argument number for Name: 3, expecting 4\n",
            "WARNING: Entity <bound method dwt_layer.call of <__main__.dwt_layer object at 0x7f1a0d389f10>> could not be transformed and will be executed as-is. Please report this to the AutgoGraph team. When filing the bug, set the verbosity to 10 (on Linux, `export AUTOGRAPH_VERBOSITY=10`) and attach the full output. Cause: converting <bound method dwt_layer.call of <__main__.dwt_layer object at 0x7f1a0d389f10>>: AssertionError: Bad argument number for Name: 3, expecting 4\n",
            "WARNING:tensorflow:Error in loading the saved optimizer state. As a result, your model is starting with a freshly initialized optimizer.\n",
            "10000/10000 [==============================] - 19s 2ms/sample - loss: 0.8124 - acc: 0.7203\n",
            "\n",
            " sg3.h5   0.7203\n",
            "WARNING:tensorflow:Entity <bound method dwt_layer.call of <__main__.dwt_layer object at 0x7f1a0c82ad10>> could not be transformed and will be executed as-is. Please report this to the AutgoGraph team. When filing the bug, set the verbosity to 10 (on Linux, `export AUTOGRAPH_VERBOSITY=10`) and attach the full output. Cause: converting <bound method dwt_layer.call of <__main__.dwt_layer object at 0x7f1a0c82ad10>>: AssertionError: Bad argument number for Name: 3, expecting 4\n",
            "WARNING: Entity <bound method dwt_layer.call of <__main__.dwt_layer object at 0x7f1a0c82ad10>> could not be transformed and will be executed as-is. Please report this to the AutgoGraph team. When filing the bug, set the verbosity to 10 (on Linux, `export AUTOGRAPH_VERBOSITY=10`) and attach the full output. Cause: converting <bound method dwt_layer.call of <__main__.dwt_layer object at 0x7f1a0c82ad10>>: AssertionError: Bad argument number for Name: 3, expecting 4\n",
            "WARNING:tensorflow:Entity <bound method dwt_layer.call of <__main__.dwt_layer object at 0x7f1a0c82ad10>> could not be transformed and will be executed as-is. Please report this to the AutgoGraph team. When filing the bug, set the verbosity to 10 (on Linux, `export AUTOGRAPH_VERBOSITY=10`) and attach the full output. Cause: converting <bound method dwt_layer.call of <__main__.dwt_layer object at 0x7f1a0c82ad10>>: AssertionError: Bad argument number for Name: 3, expecting 4\n",
            "WARNING: Entity <bound method dwt_layer.call of <__main__.dwt_layer object at 0x7f1a0c82ad10>> could not be transformed and will be executed as-is. Please report this to the AutgoGraph team. When filing the bug, set the verbosity to 10 (on Linux, `export AUTOGRAPH_VERBOSITY=10`) and attach the full output. Cause: converting <bound method dwt_layer.call of <__main__.dwt_layer object at 0x7f1a0c82ad10>>: AssertionError: Bad argument number for Name: 3, expecting 4\n",
            "WARNING:tensorflow:Entity <bound method dwt_layer.call of <__main__.dwt_layer object at 0x7f1a0c82ad10>> could not be transformed and will be executed as-is. Please report this to the AutgoGraph team. When filing the bug, set the verbosity to 10 (on Linux, `export AUTOGRAPH_VERBOSITY=10`) and attach the full output. Cause: converting <bound method dwt_layer.call of <__main__.dwt_layer object at 0x7f1a0c82ad10>>: AssertionError: Bad argument number for Name: 3, expecting 4\n",
            "WARNING: Entity <bound method dwt_layer.call of <__main__.dwt_layer object at 0x7f1a0c82ad10>> could not be transformed and will be executed as-is. Please report this to the AutgoGraph team. When filing the bug, set the verbosity to 10 (on Linux, `export AUTOGRAPH_VERBOSITY=10`) and attach the full output. Cause: converting <bound method dwt_layer.call of <__main__.dwt_layer object at 0x7f1a0c82ad10>>: AssertionError: Bad argument number for Name: 3, expecting 4\n",
            "10000/10000 [==============================] - 23s 2ms/sample - loss: 0.5790 - acc: 0.8061\n",
            "\n",
            " sg4.h5   0.8061\n",
            "WARNING:tensorflow:Entity <bound method dwt_layer.call of <__main__.dwt_layer object at 0x7f1a0ba450d0>> could not be transformed and will be executed as-is. Please report this to the AutgoGraph team. When filing the bug, set the verbosity to 10 (on Linux, `export AUTOGRAPH_VERBOSITY=10`) and attach the full output. Cause: converting <bound method dwt_layer.call of <__main__.dwt_layer object at 0x7f1a0ba450d0>>: AssertionError: Bad argument number for Name: 3, expecting 4\n",
            "WARNING: Entity <bound method dwt_layer.call of <__main__.dwt_layer object at 0x7f1a0ba450d0>> could not be transformed and will be executed as-is. Please report this to the AutgoGraph team. When filing the bug, set the verbosity to 10 (on Linux, `export AUTOGRAPH_VERBOSITY=10`) and attach the full output. Cause: converting <bound method dwt_layer.call of <__main__.dwt_layer object at 0x7f1a0ba450d0>>: AssertionError: Bad argument number for Name: 3, expecting 4\n",
            "WARNING:tensorflow:Entity <bound method dwt_layer.call of <__main__.dwt_layer object at 0x7f1a0ba450d0>> could not be transformed and will be executed as-is. Please report this to the AutgoGraph team. When filing the bug, set the verbosity to 10 (on Linux, `export AUTOGRAPH_VERBOSITY=10`) and attach the full output. Cause: converting <bound method dwt_layer.call of <__main__.dwt_layer object at 0x7f1a0ba450d0>>: AssertionError: Bad argument number for Name: 3, expecting 4\n",
            "WARNING: Entity <bound method dwt_layer.call of <__main__.dwt_layer object at 0x7f1a0ba450d0>> could not be transformed and will be executed as-is. Please report this to the AutgoGraph team. When filing the bug, set the verbosity to 10 (on Linux, `export AUTOGRAPH_VERBOSITY=10`) and attach the full output. Cause: converting <bound method dwt_layer.call of <__main__.dwt_layer object at 0x7f1a0ba450d0>>: AssertionError: Bad argument number for Name: 3, expecting 4\n",
            "WARNING:tensorflow:Entity <bound method dwt_layer.call of <__main__.dwt_layer object at 0x7f1a0b7d2c10>> could not be transformed and will be executed as-is. Please report this to the AutgoGraph team. When filing the bug, set the verbosity to 10 (on Linux, `export AUTOGRAPH_VERBOSITY=10`) and attach the full output. Cause: converting <bound method dwt_layer.call of <__main__.dwt_layer object at 0x7f1a0b7d2c10>>: AssertionError: Bad argument number for Name: 3, expecting 4\n",
            "WARNING: Entity <bound method dwt_layer.call of <__main__.dwt_layer object at 0x7f1a0b7d2c10>> could not be transformed and will be executed as-is. Please report this to the AutgoGraph team. When filing the bug, set the verbosity to 10 (on Linux, `export AUTOGRAPH_VERBOSITY=10`) and attach the full output. Cause: converting <bound method dwt_layer.call of <__main__.dwt_layer object at 0x7f1a0b7d2c10>>: AssertionError: Bad argument number for Name: 3, expecting 4\n",
            "WARNING:tensorflow:Entity <bound method dwt_layer.call of <__main__.dwt_layer object at 0x7f1a0ba450d0>> could not be transformed and will be executed as-is. Please report this to the AutgoGraph team. When filing the bug, set the verbosity to 10 (on Linux, `export AUTOGRAPH_VERBOSITY=10`) and attach the full output. Cause: converting <bound method dwt_layer.call of <__main__.dwt_layer object at 0x7f1a0ba450d0>>: AssertionError: Bad argument number for Name: 3, expecting 4\n",
            "WARNING: Entity <bound method dwt_layer.call of <__main__.dwt_layer object at 0x7f1a0ba450d0>> could not be transformed and will be executed as-is. Please report this to the AutgoGraph team. When filing the bug, set the verbosity to 10 (on Linux, `export AUTOGRAPH_VERBOSITY=10`) and attach the full output. Cause: converting <bound method dwt_layer.call of <__main__.dwt_layer object at 0x7f1a0ba450d0>>: AssertionError: Bad argument number for Name: 3, expecting 4\n",
            "WARNING:tensorflow:Entity <bound method dwt_layer.call of <__main__.dwt_layer object at 0x7f1a0b7d2c10>> could not be transformed and will be executed as-is. Please report this to the AutgoGraph team. When filing the bug, set the verbosity to 10 (on Linux, `export AUTOGRAPH_VERBOSITY=10`) and attach the full output. Cause: converting <bound method dwt_layer.call of <__main__.dwt_layer object at 0x7f1a0b7d2c10>>: AssertionError: Bad argument number for Name: 3, expecting 4\n",
            "WARNING: Entity <bound method dwt_layer.call of <__main__.dwt_layer object at 0x7f1a0b7d2c10>> could not be transformed and will be executed as-is. Please report this to the AutgoGraph team. When filing the bug, set the verbosity to 10 (on Linux, `export AUTOGRAPH_VERBOSITY=10`) and attach the full output. Cause: converting <bound method dwt_layer.call of <__main__.dwt_layer object at 0x7f1a0b7d2c10>>: AssertionError: Bad argument number for Name: 3, expecting 4\n",
            "WARNING:tensorflow:Entity <bound method dwt_layer.call of <__main__.dwt_layer object at 0x7f1a0b6eaf10>> could not be transformed and will be executed as-is. Please report this to the AutgoGraph team. When filing the bug, set the verbosity to 10 (on Linux, `export AUTOGRAPH_VERBOSITY=10`) and attach the full output. Cause: converting <bound method dwt_layer.call of <__main__.dwt_layer object at 0x7f1a0b6eaf10>>: AssertionError: Bad argument number for Name: 3, expecting 4\n",
            "WARNING: Entity <bound method dwt_layer.call of <__main__.dwt_layer object at 0x7f1a0b6eaf10>> could not be transformed and will be executed as-is. Please report this to the AutgoGraph team. When filing the bug, set the verbosity to 10 (on Linux, `export AUTOGRAPH_VERBOSITY=10`) and attach the full output. Cause: converting <bound method dwt_layer.call of <__main__.dwt_layer object at 0x7f1a0b6eaf10>>: AssertionError: Bad argument number for Name: 3, expecting 4\n",
            "WARNING:tensorflow:Error in loading the saved optimizer state. As a result, your model is starting with a freshly initialized optimizer.\n",
            "10000/10000 [==============================] - 22s 2ms/sample - loss: 0.6339 - acc: 0.7873\n",
            "\n",
            " sg5.h5   0.7873\n"
          ]
        }
      ]
    },
    {
      "cell_type": "markdown",
      "metadata": {
        "id": "W-yWV9xTTjGC"
      },
      "source": [
        "# 7. Checking to ensure improvement in accuracy"
      ]
    },
    {
      "cell_type": "code",
      "metadata": {
        "id": "gZBsLbcpnK2k",
        "colab": {
          "base_uri": "https://localhost:8080/"
        },
        "outputId": "8ae2bed4-1a51-427c-ef3f-51e7a5cd5917"
      },
      "source": [
        "for i in range(6):\n",
        "  if va_list[i]!=0:\n",
        "    print(\"Accuracy of supergroup \"+str(i)+':\\t',(va_list[i]*100))\n"
      ],
      "execution_count": null,
      "outputs": [
        {
          "output_type": "stream",
          "name": "stdout",
          "text": [
            "Accuracy of supergroup 0:\t 76.08000040054321\n",
            "Accuracy of supergroup 1:\t 75.05999803543091\n",
            "Accuracy of supergroup 2:\t 73.9799976348877\n",
            "Accuracy of supergroup 3:\t 72.0300018787384\n",
            "Accuracy of supergroup 4:\t 80.61000108718872\n",
            "Accuracy of supergroup 5:\t 78.72999906539917\n"
          ]
        }
      ]
    },
    {
      "cell_type": "code",
      "metadata": {
        "id": "Q46f6QjnTjGC",
        "colab": {
          "base_uri": "https://localhost:8080/"
        },
        "outputId": "1c0f9621-5baa-4be3-c728-443f9f711827"
      },
      "source": [
        "print(\"Accuracy of root node :\",va1*100)\n",
        "for i in range(6):\n",
        "    if va_list[i]>va1:\n",
        "        print(\"Supergroup \",i,\" has improved from \",va1*100,\"% to \",va_list[i]*100,\"% .\",\"\\tBy \",(va_list[i]-va1)*100,'%')"
      ],
      "execution_count": null,
      "outputs": [
        {
          "output_type": "stream",
          "name": "stdout",
          "text": [
            "Accuracy of root node : 63.65000009536743\n",
            "Supergroup  0  has improved from  63.65000009536743 % to  76.08000040054321 % . \tBy  12.430000305175781 %\n",
            "Supergroup  1  has improved from  63.65000009536743 % to  75.05999803543091 % . \tBy  11.409997940063477 %\n",
            "Supergroup  2  has improved from  63.65000009536743 % to  73.9799976348877 % . \tBy  10.329997539520264 %\n",
            "Supergroup  3  has improved from  63.65000009536743 % to  72.0300018787384 % . \tBy  8.380001783370972 %\n",
            "Supergroup  4  has improved from  63.65000009536743 % to  80.61000108718872 % . \tBy  16.96000099182129 %\n",
            "Supergroup  5  has improved from  63.65000009536743 % to  78.72999906539917 % . \tBy  15.079998970031738 %\n"
          ]
        }
      ]
    }
  ]
}